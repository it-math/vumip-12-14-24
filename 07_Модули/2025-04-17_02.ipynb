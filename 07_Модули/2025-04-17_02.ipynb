{
 "cells": [
  {
   "cell_type": "markdown",
   "id": "43ddd2ba",
   "metadata": {},
   "source": [
    "# Модули пользователя"
   ]
  },
  {
   "cell_type": "markdown",
   "id": "81ed0280",
   "metadata": {},
   "source": [
    "Cоздадим файл `my.py`. "
   ]
  },
  {
   "cell_type": "markdown",
   "id": "55370e6a",
   "metadata": {},
   "source": [
    "Python по-умолчанию хранит модули в следующих папках:"
   ]
  },
  {
   "cell_type": "code",
   "execution_count": 11,
   "id": "6e8f5b42",
   "metadata": {},
   "outputs": [
    {
     "name": "stdout",
     "output_type": "stream",
     "text": [
      "['c:\\\\Program Files\\\\Python312\\\\python312.zip', 'c:\\\\Program Files\\\\Python312\\\\DLLs', 'c:\\\\Program Files\\\\Python312\\\\Lib', 'c:\\\\Program Files\\\\Python312', '', 'C:\\\\Users\\\\sidor\\\\AppData\\\\Roaming\\\\Python\\\\Python312\\\\site-packages', 'C:\\\\Users\\\\sidor\\\\AppData\\\\Roaming\\\\Python\\\\Python312\\\\site-packages\\\\win32', 'C:\\\\Users\\\\sidor\\\\AppData\\\\Roaming\\\\Python\\\\Python312\\\\site-packages\\\\win32\\\\lib', 'C:\\\\Users\\\\sidor\\\\AppData\\\\Roaming\\\\Python\\\\Python312\\\\site-packages\\\\Pythonwin', 'c:\\\\Program Files\\\\Python312\\\\Lib\\\\site-packages']\n"
     ]
    }
   ],
   "source": [
    "import sys\n",
    "print(sys.path)"
   ]
  },
  {
   "cell_type": "markdown",
   "id": "8d98d387",
   "metadata": {},
   "source": [
    "В файле `program_1.py` импортируем наш модуль:"
   ]
  },
  {
   "cell_type": "code",
   "execution_count": null,
   "id": "1ed24838",
   "metadata": {},
   "outputs": [],
   "source": [
    "import my\n",
    "\n",
    "print(dir(my))\n",
    "\n",
    "my.func(4)"
   ]
  },
  {
   "cell_type": "markdown",
   "id": "7330d745",
   "metadata": {},
   "source": [
    "Создадим еще один модуль `mytest`:"
   ]
  },
  {
   "cell_type": "code",
   "execution_count": null,
   "id": "20ef6921",
   "metadata": {},
   "outputs": [],
   "source": [
    "print('test')"
   ]
  },
  {
   "cell_type": "markdown",
   "id": "8b0760c8",
   "metadata": {},
   "source": [
    "Импортируем модуль дважды."
   ]
  },
  {
   "cell_type": "markdown",
   "id": "bb56df13",
   "metadata": {},
   "source": [
    "Выводы:\n",
    "1. импорт модуля выполняет команды, которые в нем содержатся\n",
    "2. при повторном импорте - команды не выполняются"
   ]
  },
  {
   "cell_type": "markdown",
   "id": "48b23f6b",
   "metadata": {},
   "source": [
    "Создадим еще один модуль `myfunc`."
   ]
  },
  {
   "cell_type": "code",
   "execution_count": null,
   "id": "70cd23e8",
   "metadata": {},
   "outputs": [
    {
     "name": "stdout",
     "output_type": "stream",
     "text": [
      "Hello, mark!\n"
     ]
    }
   ],
   "source": [
    "def print_hello(x):\n",
    "    return f'Hello, {x}!'\n",
    "\n",
    "\n",
    "s = input('Введите имя: ')\n",
    "print(print_hello(s))"
   ]
  },
  {
   "cell_type": "markdown",
   "id": "e31868a6",
   "metadata": {},
   "source": [
    "Импортируем этот модуль:"
   ]
  },
  {
   "cell_type": "code",
   "execution_count": null,
   "id": "40255172",
   "metadata": {},
   "outputs": [],
   "source": [
    "import myfunc"
   ]
  },
  {
   "cell_type": "code",
   "execution_count": null,
   "id": "95c22a14",
   "metadata": {},
   "outputs": [],
   "source": [
    "s = myfunc.print_hello('Mark')\n",
    "print(s)"
   ]
  },
  {
   "cell_type": "markdown",
   "id": "93088a0f",
   "metadata": {},
   "source": [
    "Для использования функции в другой программе есть специальная переменная `__name__`.\n",
    "\n",
    "При запуске модуля значение переменной `__name__` будет равно `__main__`.\n",
    "\n",
    "При импортировании переменная содержит название модуля.\n",
    "\n"
   ]
  }
 ],
 "metadata": {
  "kernelspec": {
   "display_name": "Python 3",
   "language": "python",
   "name": "python3"
  },
  "language_info": {
   "codemirror_mode": {
    "name": "ipython",
    "version": 3
   },
   "file_extension": ".py",
   "mimetype": "text/x-python",
   "name": "python",
   "nbconvert_exporter": "python",
   "pygments_lexer": "ipython3",
   "version": "3.12.3"
  }
 },
 "nbformat": 4,
 "nbformat_minor": 5
}
