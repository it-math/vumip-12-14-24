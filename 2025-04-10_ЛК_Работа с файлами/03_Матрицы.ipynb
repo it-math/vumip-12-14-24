{
 "cells": [
  {
   "cell_type": "markdown",
   "id": "5d4a8227",
   "metadata": {},
   "source": [
    "# Запись матрицы в файл"
   ]
  },
  {
   "cell_type": "markdown",
   "id": "fa2061f6",
   "metadata": {
    "vscode": {
     "languageId": "plaintext"
    }
   },
   "source": [
    "Матрица – это список списков. \n"
   ]
  },
  {
   "cell_type": "code",
   "execution_count": 8,
   "id": "e6255e2f",
   "metadata": {},
   "outputs": [],
   "source": [
    "f = open('03_1.txt', 'w')\n",
    "m = [[1111, 2, 3], [4, 335, 6], [7, 8, 9]]\n",
    "\n",
    "for line in m:\n",
    "    s = ' '.join(map(str, line))\n",
    "    f.write(s+'\\n')\n",
    "f.close()\n"
   ]
  },
  {
   "cell_type": "code",
   "execution_count": null,
   "id": "11c59c42",
   "metadata": {},
   "outputs": [
    {
     "name": "stdout",
     "output_type": "stream",
     "text": [
      "['1111', '2', '3'] <class 'list'>\n",
      "['4', '335', '6'] <class 'list'>\n",
      "['7', '8', '9'] <class 'list'>\n",
      "[['1111', '2', '3'], ['4', '335', '6'], ['7', '8', '9']]\n"
     ]
    }
   ],
   "source": [
    "f = open('03_1.txt')\n",
    "m = []\n",
    "for line in f:\n",
    "    #a = list(map(int, line.split()))\n",
    "    a = [int(x) for x in line.split()]\n",
    "    print(a, type(a))\n",
    "    m += [a]\n",
    "print(m)\n"
   ]
  },
  {
   "cell_type": "code",
   "execution_count": 16,
   "id": "22b65e68",
   "metadata": {},
   "outputs": [
    {
     "name": "stdout",
     "output_type": "stream",
     "text": [
      "[[1111, 2, 3], [4, 335, 6], [7, 8, 9]]\n"
     ]
    }
   ],
   "source": [
    "f = open('03_1.txt')\n",
    "m = [[int(x) for x in line.split()] for line in f]\n",
    "print(m)"
   ]
  }
 ],
 "metadata": {
  "kernelspec": {
   "display_name": "Python 3",
   "language": "python",
   "name": "python3"
  },
  "language_info": {
   "codemirror_mode": {
    "name": "ipython",
    "version": 3
   },
   "file_extension": ".py",
   "mimetype": "text/x-python",
   "name": "python",
   "nbconvert_exporter": "python",
   "pygments_lexer": "ipython3",
   "version": "3.12.3"
  }
 },
 "nbformat": 4,
 "nbformat_minor": 5
}
