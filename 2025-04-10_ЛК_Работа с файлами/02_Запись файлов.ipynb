{
 "cells": [
  {
   "cell_type": "markdown",
   "id": "55d88170",
   "metadata": {},
   "source": [
    "# Запись в текстовый файл"
   ]
  },
  {
   "cell_type": "markdown",
   "id": "d85c6a73",
   "metadata": {},
   "source": [
    "Чтобы в файл можно было записывать, вы должны открыть его в режиме `w`:"
   ]
  },
  {
   "cell_type": "code",
   "execution_count": 4,
   "id": "c1ead031",
   "metadata": {},
   "outputs": [
    {
     "name": "stdout",
     "output_type": "stream",
     "text": [
      "<_io.TextIOWrapper name='02.txt' mode='w' encoding='cp1251'>\n"
     ]
    }
   ],
   "source": [
    "with open('02.txt', 'w') as fout:\n",
    "    print(fout)"
   ]
  },
  {
   "cell_type": "markdown",
   "id": "d9d1c084",
   "metadata": {},
   "source": [
    "Если же такой файл не существует, то создается новый файл с таким именем.\n",
    "\n",
    "Если такой файл уже существует, при открытии его в режиме записи все его прежние данные, содержащиеся в нем, уничтожаются, и он готов принимать новые данные. "
   ]
  },
  {
   "cell_type": "markdown",
   "id": "e91f3427",
   "metadata": {},
   "source": [
    "Для записи применяется метод `write()`, в который передается записываемая **строка**. \n",
    "\n",
    "Записывается именно строка, поэтому, если нужно записать числа, данные других типов, то их предварительно нужно конвертировать в строку.\n",
    "\n",
    "Метод `write()` также возвращает число записанных символов.\n"
   ]
  },
  {
   "cell_type": "code",
   "execution_count": 1,
   "id": "95425c9c",
   "metadata": {},
   "outputs": [],
   "source": [
    "with open('02.txt', 'w') as fout:\n",
    "    fout.write('Hello')\n"
   ]
  },
  {
   "cell_type": "markdown",
   "id": "cfb15b42",
   "metadata": {},
   "source": [
    "Объект `file` ведет учет того, где производится запись, поэтому если вы снова вызовем метод `write()`, то он добавит новые данные к концу файла.\n"
   ]
  },
  {
   "cell_type": "code",
   "execution_count": 2,
   "id": "eb170f1a",
   "metadata": {},
   "outputs": [],
   "source": [
    "with open('02.txt', 'w') as fout:\n",
    "    fout.write('Hello')\n",
    "    fout.write('Python')"
   ]
  },
  {
   "cell_type": "markdown",
   "id": "49136fbb",
   "metadata": {},
   "source": [
    "Метод `write()` не вставляет символ перехода на новую строку автоматически после каждой строки, которую он пишет в файл. \n"
   ]
  },
  {
   "cell_type": "markdown",
   "id": "2d7d3a2c",
   "metadata": {},
   "source": [
    "Символы `\\n` мы можем помещать там, где хотим видеть их в файле. "
   ]
  },
  {
   "cell_type": "code",
   "execution_count": 3,
   "id": "e603baca",
   "metadata": {},
   "outputs": [],
   "source": [
    "with open('02.txt', 'w') as fout:\n",
    "    fout.write('Hello' + '\\n')\n",
    "    fout.write('Python')"
   ]
  },
  {
   "cell_type": "code",
   "execution_count": 4,
   "id": "5ddd58a8",
   "metadata": {},
   "outputs": [
    {
     "ename": "TypeError",
     "evalue": "write() argument must be str, not int",
     "output_type": "error",
     "traceback": [
      "\u001b[1;31m---------------------------------------------------------------------------\u001b[0m",
      "\u001b[1;31mTypeError\u001b[0m                                 Traceback (most recent call last)",
      "Cell \u001b[1;32mIn[4], line 4\u001b[0m\n\u001b[0;32m      2\u001b[0m x \u001b[38;5;241m=\u001b[39m \u001b[38;5;241m10\u001b[39m\n\u001b[0;32m      3\u001b[0m fout\u001b[38;5;241m.\u001b[39mwrite(\u001b[38;5;124m'\u001b[39m\u001b[38;5;124mHello\u001b[39m\u001b[38;5;124m'\u001b[39m \u001b[38;5;241m+\u001b[39m \u001b[38;5;124m'\u001b[39m\u001b[38;5;130;01m\\n\u001b[39;00m\u001b[38;5;124m'\u001b[39m)\n\u001b[1;32m----> 4\u001b[0m \u001b[43mfout\u001b[49m\u001b[38;5;241;43m.\u001b[39;49m\u001b[43mwrite\u001b[49m\u001b[43m(\u001b[49m\u001b[43mx\u001b[49m\u001b[43m)\u001b[49m\n",
      "\u001b[1;31mTypeError\u001b[0m: write() argument must be str, not int"
     ]
    }
   ],
   "source": [
    "with open('02.txt', 'w') as fout:\n",
    "    x = 10\n",
    "    fout.write('Hello' + '\\n')\n",
    "    fout.write(x)"
   ]
  },
  {
   "cell_type": "markdown",
   "id": "77e6e222",
   "metadata": {},
   "source": [
    "Аргумент метода `write()` должен быть строкового типа, поэтому для того, чтобы записать какие-либо данные в файл, их необходимо конвертировать в строку. \n",
    "\n",
    "Проще всего это сделать при помощи функции `str`.\n"
   ]
  },
  {
   "cell_type": "code",
   "execution_count": 5,
   "id": "dd02a5d0",
   "metadata": {},
   "outputs": [],
   "source": [
    "with open('02.txt', 'w') as fout:\n",
    "    x = 10\n",
    "    fout.write('Hello' + '\\n')\n",
    "    fout.write(str(x))"
   ]
  },
  {
   "cell_type": "code",
   "execution_count": 6,
   "id": "58b6b2ae",
   "metadata": {},
   "outputs": [
    {
     "name": "stdout",
     "output_type": "stream",
     "text": [
      "['\n"
     ]
    }
   ],
   "source": [
    "with open('02.txt', 'w') as fout:  \n",
    "    lst = ['hello', 'python', 5]\n",
    "    fout.write(str(lst))   # Так делать нельзя!!!!!!!!\n",
    "with open('02.txt') as fin:\n",
    "    print(fin.read(2))"
   ]
  },
  {
   "cell_type": "markdown",
   "id": "b8886d37",
   "metadata": {},
   "source": [
    "Запишем в файл список `lst`, предварительно преобразовав все элементы списка в строки с помощью функции `str` и соединив их в одну строку с помощью метода `join()`:\n"
   ]
  },
  {
   "cell_type": "code",
   "execution_count": 7,
   "id": "34f113e3",
   "metadata": {},
   "outputs": [],
   "source": [
    "with open('02.txt', 'w') as fout:  \n",
    "    lst = ['a', 'hello', 'python']\n",
    "    s = ' '.join(lst)\n",
    "    fout.write(s) "
   ]
  },
  {
   "cell_type": "markdown",
   "id": "54e5394d",
   "metadata": {},
   "source": [
    "Создадим файл с помощью метода `writelines()` файлового объекта. \n",
    "`writelines()` работает со списком строк -  записывает в файл. \n"
   ]
  },
  {
   "cell_type": "code",
   "execution_count": 8,
   "id": "dc800b6c",
   "metadata": {},
   "outputs": [],
   "source": [
    "with open('02.txt', 'w') as fout:  \n",
    "    lst = ['a', 'hello', 'python']\n",
    "    fout.writelines(lst)"
   ]
  },
  {
   "cell_type": "code",
   "execution_count": null,
   "id": "9ad5b4e1",
   "metadata": {},
   "outputs": [],
   "source": [
    "with open('02.txt', 'w') as fout:  \n",
    "    lst = ['a', 'hello', 'python']\n",
    "    fout.writelines(x + ' ' for x in lst)"
   ]
  },
  {
   "cell_type": "code",
   "execution_count": 12,
   "id": "7adef0f4",
   "metadata": {},
   "outputs": [
    {
     "ename": "TypeError",
     "evalue": "sequence item 0: expected str instance, int found",
     "output_type": "error",
     "traceback": [
      "\u001b[1;31m---------------------------------------------------------------------------\u001b[0m",
      "\u001b[1;31mTypeError\u001b[0m                                 Traceback (most recent call last)",
      "Cell \u001b[1;32mIn[12], line 3\u001b[0m\n\u001b[0;32m      1\u001b[0m \u001b[38;5;28;01mwith\u001b[39;00m \u001b[38;5;28mopen\u001b[39m(\u001b[38;5;124m'\u001b[39m\u001b[38;5;124m02.txt\u001b[39m\u001b[38;5;124m'\u001b[39m, \u001b[38;5;124m'\u001b[39m\u001b[38;5;124mw\u001b[39m\u001b[38;5;124m'\u001b[39m) \u001b[38;5;28;01mas\u001b[39;00m fout:  \n\u001b[0;32m      2\u001b[0m     lst \u001b[38;5;241m=\u001b[39m [\u001b[38;5;241m6\u001b[39m, \u001b[38;5;241m90\u001b[39m, \u001b[38;5;241m12\u001b[39m, \u001b[38;5;241m20\u001b[39m, \u001b[38;5;241m10\u001b[39m]\n\u001b[1;32m----> 3\u001b[0m     s \u001b[38;5;241m=\u001b[39m \u001b[38;5;124;43m'\u001b[39;49m\u001b[38;5;124;43m'\u001b[39;49m\u001b[38;5;241;43m.\u001b[39;49m\u001b[43mjoin\u001b[49m\u001b[43m(\u001b[49m\u001b[43mlst\u001b[49m\u001b[43m)\u001b[49m\n\u001b[0;32m      4\u001b[0m     fout\u001b[38;5;241m.\u001b[39mwrite(s) \n",
      "\u001b[1;31mTypeError\u001b[0m: sequence item 0: expected str instance, int found"
     ]
    }
   ],
   "source": [
    "with open('02.txt', 'w') as fout:  \n",
    "    lst = [6, 90, 12, 20, 10]\n",
    "    s = ''.join(lst)\n",
    "    fout.write(s) "
   ]
  },
  {
   "cell_type": "code",
   "execution_count": 22,
   "id": "ab6c3372",
   "metadata": {},
   "outputs": [
    {
     "ename": "TypeError",
     "evalue": "write() argument must be str, not int",
     "output_type": "error",
     "traceback": [
      "\u001b[1;31m---------------------------------------------------------------------------\u001b[0m",
      "\u001b[1;31mTypeError\u001b[0m                                 Traceback (most recent call last)",
      "Cell \u001b[1;32mIn[22], line 3\u001b[0m\n\u001b[0;32m      1\u001b[0m \u001b[38;5;28;01mwith\u001b[39;00m \u001b[38;5;28mopen\u001b[39m(\u001b[38;5;124m'\u001b[39m\u001b[38;5;124m02.txt\u001b[39m\u001b[38;5;124m'\u001b[39m, \u001b[38;5;124m'\u001b[39m\u001b[38;5;124mw\u001b[39m\u001b[38;5;124m'\u001b[39m) \u001b[38;5;28;01mas\u001b[39;00m fout:  \n\u001b[0;32m      2\u001b[0m     lst \u001b[38;5;241m=\u001b[39m [\u001b[38;5;241m6\u001b[39m, \u001b[38;5;241m90\u001b[39m, \u001b[38;5;241m12\u001b[39m, \u001b[38;5;241m20\u001b[39m, \u001b[38;5;241m10\u001b[39m]\n\u001b[1;32m----> 3\u001b[0m     \u001b[43mfout\u001b[49m\u001b[38;5;241;43m.\u001b[39;49m\u001b[43mwritelines\u001b[49m\u001b[43m(\u001b[49m\u001b[43mlst\u001b[49m\u001b[43m)\u001b[49m\n",
      "\u001b[1;31mTypeError\u001b[0m: write() argument must be str, not int"
     ]
    }
   ],
   "source": [
    "with open('02.txt', 'w') as fout:  \n",
    "    lst = [6, 90, 12, 20, 10]\n",
    "    fout.writelines(lst)"
   ]
  },
  {
   "cell_type": "markdown",
   "id": "c551f78b",
   "metadata": {},
   "source": [
    "## Запись списка чисел в файл"
   ]
  },
  {
   "cell_type": "markdown",
   "id": "6791ed12",
   "metadata": {},
   "source": [
    "Внесем изменения в наш код:"
   ]
  },
  {
   "cell_type": "code",
   "execution_count": 23,
   "id": "a52f557e",
   "metadata": {},
   "outputs": [],
   "source": [
    "with open('02.txt', 'w') as fout:  \n",
    "    lst = [6, 90, 12, 20, 10]\n",
    "    fout.writelines(str(x) for x in lst)"
   ]
  },
  {
   "cell_type": "code",
   "execution_count": 14,
   "id": "a8029683",
   "metadata": {},
   "outputs": [],
   "source": [
    "with open('02.txt', 'w') as fout:  \n",
    "    lst = [6, 90, 12, 20, 10]\n",
    "    #lst = [str(x) for x in lst]\n",
    "    fout.writelines(str(x) for x in lst)"
   ]
  },
  {
   "cell_type": "code",
   "execution_count": null,
   "id": "fddae405",
   "metadata": {},
   "outputs": [],
   "source": [
    "with open('02.txt', 'w') as fout:  \n",
    "    lst = [6, 90, 12, 20, 10]\n",
    "    s = ' '.join(map(str, lst))\n",
    "    fout.writelines(s)"
   ]
  }
 ],
 "metadata": {
  "kernelspec": {
   "display_name": "Python 3",
   "language": "python",
   "name": "python3"
  },
  "language_info": {
   "codemirror_mode": {
    "name": "ipython",
    "version": 3
   },
   "file_extension": ".py",
   "mimetype": "text/x-python",
   "name": "python",
   "nbconvert_exporter": "python",
   "pygments_lexer": "ipython3",
   "version": "3.12.3"
  }
 },
 "nbformat": 4,
 "nbformat_minor": 5
}
