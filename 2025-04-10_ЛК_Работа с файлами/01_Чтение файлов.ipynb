{
 "cells": [
  {
   "cell_type": "markdown",
   "id": "4c97dd24",
   "metadata": {},
   "source": [
    "# Работа с файлами в Python"
   ]
  },
  {
   "cell_type": "markdown",
   "id": "2217623a",
   "metadata": {},
   "source": [
    "Функции и объекты, рассмотренные сегодня,  позволят нам сохранять данные между вызовами программы, а также обмениваться данными между программами.\n"
   ]
  },
  {
   "cell_type": "markdown",
   "id": "8cdc3e28",
   "metadata": {},
   "source": [
    "Python поддерживает множество различных типов файлов, но условно их можно разделить на два вида: \n",
    "**текстовые** и **бинарные**. "
   ]
  },
  {
   "cell_type": "markdown",
   "id": "31a0dc6a",
   "metadata": {},
   "source": [
    "Текстовые файлы - это файлы, которые сохраняют информацию в текстовом виде, например, файлы с расширением **cvs, txt, html** и т.д."
   ]
  },
  {
   "cell_type": "markdown",
   "id": "25d65082",
   "metadata": {},
   "source": [
    "Бинарные файлы - это изображения, аудио и видеофайлы и т.д. "
   ]
  },
  {
   "cell_type": "markdown",
   "id": "662a2298",
   "metadata": {},
   "source": [
    "В зависимости от типа файла работа с ним может немного отличаться."
   ]
  },
  {
   "cell_type": "markdown",
   "id": "1a52c8be",
   "metadata": {},
   "source": [
    "При работе с файлами необходимо соблюдать некоторую последовательность операций:\n",
    "\n",
    "1. Открытие файла с помощью метода **open()**\n",
    "2. Чтение файла с помощью метода **read()** или запись в файл посредством метода **write()**\n",
    "3. Закрытие файла методом **close()**"
   ]
  },
  {
   "cell_type": "markdown",
   "id": "1cf69675",
   "metadata": {},
   "source": [
    "## Открытие и закрытие файла"
   ]
  },
  {
   "cell_type": "markdown",
   "id": "7265394d",
   "metadata": {},
   "source": [
    "Чтобы начать работу с файлом, его надо открыть с помощью функции **open()**, которая имеет следующее формальное определение:\n",
    "```\n",
    "open(file, mode, encoding)\n",
    "```\n",
    "Первый параметр функции (**file**) представляет путь к файлу. Путь файла может быть абсолютным, то есть начинаться с буквы диска, например, **C://somedir/somefile.txt**. \n"
   ]
  },
  {
   "cell_type": "markdown",
   "id": "398b1ea3",
   "metadata": {},
   "source": [
    "При указании пути к каталогу используется `/`(прямая обратная черта, слэш, правый слэш), не обсуждая какая операционная система используется. \n",
    "Windows использует `\\` (обратную косую черту, обратный слэш, слэш влево) для указания пути к каталогам.\n",
    "Операционные системы Linux и MacOS используют `/`(прямая обратная черта, слэш, правый слэш). \n",
    "В Python прямой слэш просто работает всегда, даже на Windows. \n"
   ]
  },
  {
   "cell_type": "markdown",
   "id": "6e87bf27",
   "metadata": {},
   "source": [
    "Если путь каталога не начинается с косой черты (слэша) или буквы, это называется **относительным путем**. \n",
    "\n",
    "Например, `somedir/somefile.txt` - в этом случае поиск файла будет идти относительно расположения запущенного скрипта Python.\n",
    "\n",
    "Файл не обязательно должен находиться на локальных дисках. Вы можете использовать сетевые диски. Этот файл может быть объектом виртуальной файловой системы (`/proc в linux`). \n",
    "\n",
    "Если ваш компьютер считает это за файл и даёт возможность обращаться к этому как к файлу, то Python сможет открыть этот файл.\n"
   ]
  },
  {
   "cell_type": "markdown",
   "id": "9f44a0a2",
   "metadata": {},
   "source": [
    "Второй передаваемый аргумент - `mode` устанавливает режим открытия файла в зависимости от того, что мы собираемся с ним делать. \n",
    "Существует 4 общих режима: \n",
    "- `r` (Read), \n",
    "- `w` (Write), \n",
    "- `a` (Append), \n",
    "- `b` (Binary). \n"
   ]
  },
  {
   "cell_type": "markdown",
   "id": "c9ece3f3",
   "metadata": {},
   "source": [
    "`r (Read)`. Файл открывается для чтения. Если файл не найден, то генерируется исключение `FileNotFoundError`."
   ]
  },
  {
   "cell_type": "markdown",
   "id": "0c688e75",
   "metadata": {},
   "source": [
    "`w (Write)`. Файл открывается для записи. Если файл отсутствует, то он создается. Если подобный файл уже есть, то он создается заново, и соответственно старые данные в нем стираются.\n",
    "\n",
    "`a (Append)`. Файл открывается для дозаписи. Если файл отсутствует, то он создается. Если подобный файл уже есть, то данные записываются в его конец.\n",
    "\n",
    "`b (Binary)`. Используется для работы с бинарными файлами. Применяется вместе с другими режимами - w или r.\n"
   ]
  },
  {
   "cell_type": "markdown",
   "id": "3ffe11ec",
   "metadata": {},
   "source": [
    "Режимы могут быть объединены, то есть, к примеру, `rb` - чтение в двоичном режиме. \n",
    "\n",
    "По умолчанию режим равен `rt`.\n",
    "\n",
    "Последний аргумент, `encoding`, нужен только в текстовом режиме чтения файла. Этот аргумент задает кодировку.\n",
    "\n",
    "После завершения работы с файлом его обязательно нужно закрыть методом `close()`. Данный метод освободит все связанные с файлом используемые ресурсы.\n"
   ]
  },
  {
   "cell_type": "markdown",
   "id": "57bd71de",
   "metadata": {},
   "source": [
    "## Открытие текстового файла"
   ]
  },
  {
   "cell_type": "markdown",
   "id": "d54c9bd5",
   "metadata": {},
   "source": [
    "Например, откроем для чтения текстовый файл «my.txt\":"
   ]
  },
  {
   "cell_type": "code",
   "execution_count": 3,
   "id": "152dde92",
   "metadata": {},
   "outputs": [
    {
     "name": "stdout",
     "output_type": "stream",
     "text": [
      "<_io.TextIOWrapper name='my.txt' mode='r' encoding='cp1251'>\n"
     ]
    }
   ],
   "source": [
    "fin = open('my.txt')\n",
    "print(fin)\n",
    "fin.close()"
   ]
  },
  {
   "cell_type": "markdown",
   "id": "21c934af",
   "metadata": {},
   "source": [
    "Например, откроем для записи текстовый файл \"hello.txt\":"
   ]
  },
  {
   "cell_type": "code",
   "execution_count": 1,
   "id": "68d2ac71",
   "metadata": {},
   "outputs": [],
   "source": [
    "fout = open('hello.txt', 'w')"
   ]
  },
  {
   "cell_type": "markdown",
   "id": "349c89d0",
   "metadata": {},
   "source": [
    "## Чтение текстового файла"
   ]
  },
  {
   "cell_type": "markdown",
   "id": "569ef2d3",
   "metadata": {},
   "source": [
    "Для чтения файла он открывается с режимом r (Read), и затем мы можем считать его содержимое различными методами:\n",
    "- `read()` считывает все содержимое файла в одну строку\n",
    "\n",
    "- `readline()` считывает одну строку из файла\n",
    "\n",
    "- `readlines()` считывает все строки файла в список\n"
   ]
  },
  {
   "cell_type": "markdown",
   "id": "26a00a6e",
   "metadata": {},
   "source": [
    "Первый метод `read` читает весь файл целиком, если был вызван без аргументов."
   ]
  },
  {
   "cell_type": "code",
   "execution_count": 2,
   "id": "6329b4ba",
   "metadata": {},
   "outputs": [
    {
     "name": "stdout",
     "output_type": "stream",
     "text": [
      "Наш первый текстовый документ.\n",
      "Hello World!\n",
      "Python\n",
      "Привет\n"
     ]
    }
   ],
   "source": [
    "fin = open('my.txt',encoding='utf-8')\n",
    "s = fin.read()\n",
    "print(s)\n",
    "fin.close()"
   ]
  },
  {
   "cell_type": "markdown",
   "id": "bc644e45",
   "metadata": {},
   "source": [
    "Необходимо понимать, что на самом деле строка s имеет вид \n",
    "\n",
    "`\"Наш первый текстовый документ.\\nHello World!\\nPython\\nПривет\"`\n",
    "\n",
    "Символ `\\n` это символ новой строки.\n"
   ]
  },
  {
   "cell_type": "code",
   "execution_count": 8,
   "id": "03ea9a50",
   "metadata": {},
   "outputs": [
    {
     "name": "stdout",
     "output_type": "stream",
     "text": [
      "Наш первый текстовый документ.\n",
      "Hello World!\n",
      "Python\n",
      "Привет\n"
     ]
    }
   ],
   "source": [
    "print(\"Наш первый текстовый документ.\\nHello World!\\nPython\\nПривет\")"
   ]
  },
  {
   "cell_type": "markdown",
   "id": "9774fd2d",
   "metadata": {},
   "source": [
    "Метод `read()` читает `n` символов, если был вызван с аргументом (целым числом n).\n"
   ]
  },
  {
   "cell_type": "code",
   "execution_count": 3,
   "id": "c26cca84",
   "metadata": {},
   "outputs": [
    {
     "name": "stdout",
     "output_type": "stream",
     "text": [
      "Наш\n",
      " пе\n"
     ]
    }
   ],
   "source": [
    "fin = open('my.txt',encoding='utf-8')\n",
    "s = fin.read(3)\n",
    "print(s)\n",
    "s = fin.read(3)\n",
    "print(s)\n",
    "fin.close()"
   ]
  },
  {
   "cell_type": "markdown",
   "id": "f637fcea",
   "metadata": {},
   "source": [
    "Ещё один способ прочитать содержимое файла – прочитать файл построчно, воспользовавшись циклом `for`:\n"
   ]
  },
  {
   "cell_type": "code",
   "execution_count": 4,
   "id": "d5682922",
   "metadata": {},
   "outputs": [
    {
     "name": "stdout",
     "output_type": "stream",
     "text": [
      "Наш первый текстовый документ.\n",
      "\n",
      "Hello World!\n",
      "\n",
      "Python\n",
      "\n",
      "Привет\n"
     ]
    }
   ],
   "source": [
    "fin = open('my.txt',encoding='utf-8')\n",
    "for line in fin:\n",
    "    print(line)"
   ]
  },
  {
   "cell_type": "code",
   "execution_count": 5,
   "id": "bcddbefb",
   "metadata": {},
   "outputs": [
    {
     "name": "stdout",
     "output_type": "stream",
     "text": [
      "Наш первый текстовый документ.\n",
      "Hello World!\n",
      "Python\n",
      "Привет\n"
     ]
    }
   ],
   "source": [
    "fin = open('my.txt',encoding='utf-8')\n",
    "for line in fin:\n",
    "    print(line.strip())"
   ]
  },
  {
   "cell_type": "code",
   "execution_count": 7,
   "id": "e62dd55c",
   "metadata": {},
   "outputs": [
    {
     "name": "stdout",
     "output_type": "stream",
     "text": [
      "['РќР°С€ РїРµСЂРІС‹Р№ С‚РµРєСЃС‚РѕРІС‹Р№ РґРѕРєСѓРјРµРЅС‚.', 'Hello World!', 'Python', 'РџСЂРёРІРµС‚']\n"
     ]
    }
   ],
   "source": [
    "fin = open('my.txt')\n",
    "text = [x.strip() for x in fin]\n",
    "print(text)"
   ]
  },
  {
   "cell_type": "markdown",
   "id": "2d0260c3",
   "metadata": {},
   "source": [
    "Метод `readline` считывает символы из файла, пока не встретит символ новой строки (т.е. считывает одну строку), и возвращает результат как `string`. \n"
   ]
  },
  {
   "cell_type": "code",
   "execution_count": 8,
   "id": "f794191f",
   "metadata": {},
   "outputs": [
    {
     "name": "stdout",
     "output_type": "stream",
     "text": [
      "Наш первый текстовый документ.\n",
      "\n"
     ]
    }
   ],
   "source": [
    "fin = open('my.txt',encoding='utf-8')\n",
    "s = fin.readline()\n",
    "print(s)"
   ]
  },
  {
   "cell_type": "markdown",
   "id": "08576f53",
   "metadata": {},
   "source": [
    "При этом символ новой строки `\\n` остаётся в конце прочитанной строки и отсутствует при чтении последней строки файла только если файл не оканчивается пустой строкой.\n"
   ]
  },
  {
   "cell_type": "markdown",
   "id": "69f73c50",
   "metadata": {},
   "source": [
    "За счёт этого возвращаемое значение становится недвусмысленным: \n",
    "- если `f.readline()` возвращает пустую строку — достигнут конец файла, \n",
    "- незаполненная строка, представленная посредством '\\n', содержит лишь символ новой строки.\n"
   ]
  },
  {
   "cell_type": "markdown",
   "id": "64f460a0",
   "metadata": {},
   "source": [
    "Объект `file` следит за тем, где производится чтение. \n",
    "Интерпретатор как будто оставляет закладку в том месте файла, так что каждый следующий вызов `read()` или `readline()` начинается оттуда, где завершил работу предыдущий. \n"
   ]
  },
  {
   "cell_type": "markdown",
   "id": "3d69b887",
   "metadata": {},
   "source": [
    "Поэтому если вызвать метод `readline` снова, то получим данные из следующей строки:"
   ]
  },
  {
   "cell_type": "code",
   "execution_count": 9,
   "id": "9d74436e",
   "metadata": {},
   "outputs": [
    {
     "name": "stdout",
     "output_type": "stream",
     "text": [
      "Hello World!\n",
      "\n",
      "Python\n",
      "\n",
      "Привет\n"
     ]
    }
   ],
   "source": [
    "s = fin.readline()\n",
    "print(s)\n",
    "s = fin.readline()\n",
    "print(s)\n",
    "s = fin.readline()\n",
    "print(s)\n",
    "fin.close()"
   ]
  },
  {
   "cell_type": "markdown",
   "id": "847088fb",
   "metadata": {},
   "source": [
    "Еще один способ работы с отдельными строками текстового файла – использование метода `readlines()`, читающего текстовый файл в список, элементами которого являются строки. "
   ]
  },
  {
   "cell_type": "code",
   "execution_count": 10,
   "id": "9de71143",
   "metadata": {},
   "outputs": [
    {
     "name": "stdout",
     "output_type": "stream",
     "text": [
      "<class 'list'>\n",
      "['РќР°С€ РїРµСЂРІС‹Р№ С‚РµРєСЃС‚РѕРІС‹Р№ РґРѕРєСѓРјРµРЅС‚.\\n', 'Hello World!\\n', 'Python\\n', 'РџСЂРёРІРµС‚']\n",
      "['РќР°С€ РїРµСЂРІС‹Р№ С‚РµРєСЃС‚РѕРІС‹Р№ РґРѕРєСѓРјРµРЅС‚.', 'Hello World!', 'Python', 'РџСЂРёРІРµС‚']\n"
     ]
    }
   ],
   "source": [
    "fin = open('my.txt')\n",
    "text = fin.readlines()\n",
    "print(type(text))\n",
    "print(text)\n",
    "fin.close()\n",
    "text = [x.strip() for x in text]\n",
    "print(text)"
   ]
  },
  {
   "cell_type": "markdown",
   "id": "c286d494",
   "metadata": {},
   "source": [
    "Теперь переменная `text` ссылается на список, в котором каждый элемент совпадает с одной строкой исходного текстового файла. Список `text`  - обычный список. \n",
    "\n",
    "Можно найти его длину и даже перебрать его элементы с помощью цикла:"
   ]
  },
  {
   "cell_type": "code",
   "execution_count": 28,
   "id": "77b84548",
   "metadata": {},
   "outputs": [
    {
     "name": "stdout",
     "output_type": "stream",
     "text": [
      "4\n",
      "РќР°С€ РїРµСЂРІС‹Р№ С‚РµРєСЃС‚РѕРІС‹Р№ РґРѕРєСѓРјРµРЅС‚.\n",
      "Hello World!\n",
      "Python\n",
      "РџСЂРёРІРµС‚\n"
     ]
    }
   ],
   "source": [
    "print(len(text))\n",
    "for line in text:\n",
    "    print(line.strip())"
   ]
  },
  {
   "cell_type": "markdown",
   "id": "1ad4746e",
   "metadata": {},
   "source": [
    "## Использование оператора «with»"
   ]
  },
  {
   "cell_type": "markdown",
   "id": "eaa2868d",
   "metadata": {},
   "source": [
    "В Python имеется встроенный инструмент, применяя который мы можем упростить чтение и редактирование файлов. \n",
    "Оператор `with` создает диспетчер контекста в Python, который автоматически закрывает файл, по окончанию работы в нем. \n"
   ]
  },
  {
   "cell_type": "code",
   "execution_count": 11,
   "id": "613b1d68",
   "metadata": {},
   "outputs": [
    {
     "name": "stdout",
     "output_type": "stream",
     "text": [
      "РќР°С€ РїРµСЂРІС‹Р№ С‚РµРєСЃС‚РѕРІС‹Р№ РґРѕРєСѓРјРµРЅС‚.\n",
      "\n"
     ]
    }
   ],
   "source": [
    "with open('my.txt') as fin:\n",
    "    print(fin.readline())"
   ]
  },
  {
   "cell_type": "markdown",
   "id": "ea27aa38",
   "metadata": {},
   "source": [
    "Можем выполнять все стандартные операции ввода\\вывода, в привычном порядке, пока находимся в пределах блока кода. \n",
    "\n",
    "После того, как покинем блок кода, файловый дескриптор закроет его, и его уже нельзя будет использовать. \n",
    "\n",
    "Т.е. нам не нужно закрывать дескриптор файла, так как оператор делает это автоматически. \n"
   ]
  },
  {
   "cell_type": "code",
   "execution_count": 12,
   "id": "823fe25f",
   "metadata": {},
   "outputs": [
    {
     "ename": "ValueError",
     "evalue": "I/O operation on closed file.",
     "output_type": "error",
     "traceback": [
      "\u001b[1;31m---------------------------------------------------------------------------\u001b[0m",
      "\u001b[1;31mValueError\u001b[0m                                Traceback (most recent call last)",
      "Cell \u001b[1;32mIn[12], line 1\u001b[0m\n\u001b[1;32m----> 1\u001b[0m \u001b[43mfin\u001b[49m\u001b[38;5;241;43m.\u001b[39;49m\u001b[43mreadline\u001b[49m\u001b[43m(\u001b[49m\u001b[43m)\u001b[49m\n",
      "\u001b[1;31mValueError\u001b[0m: I/O operation on closed file."
     ]
    }
   ],
   "source": [
    "fin.readline()"
   ]
  },
  {
   "cell_type": "markdown",
   "id": "c612dfaf",
   "metadata": {},
   "source": [
    "## Перехват ошибок"
   ]
  },
  {
   "cell_type": "markdown",
   "id": "ac902ecf",
   "metadata": {},
   "source": [
    "Ошибки будут получены:\n",
    "- если у нас нет доступа к файлу,\n",
    "- если мы попытаемся открыть директорию для чтения,\n",
    "- ошибки обработки данных.\n",
    "\n",
    "Для предотвращения подобных ошибок мы можем пользоваться специальными функциями, но это может отнимать много времени и кода для проверки  всех возможных вероятных ошибок.\n",
    "\n",
    "В подобных случаях гораздо лучше просто продолжать выполнение, а с ошибками разбираться, если они появятся. \n"
   ]
  },
  {
   "cell_type": "code",
   "execution_count": 17,
   "id": "8c091b59",
   "metadata": {},
   "outputs": [
    {
     "name": "stdout",
     "output_type": "stream",
     "text": [
      "57\n",
      ".\n"
     ]
    }
   ],
   "source": [
    "try:\n",
    "    fin = open('my.txt')\n",
    "    s = fin.readline()\n",
    "    print(len(s))\n",
    "    print(s[len(s)-2])\n",
    "\n",
    "except FileNotFoundError:\n",
    "    print('Не удается найти файл')\n",
    "except PermissionError:\n",
    "    print('Нет разрешения доступа')\n",
    "except:\n",
    "    print('Произошла какая-то ошибка')"
   ]
  },
  {
   "cell_type": "code",
   "execution_count": 46,
   "id": "1aa3ae80",
   "metadata": {},
   "outputs": [
    {
     "name": "stdout",
     "output_type": "stream",
     "text": [
      "Не удается найти файл\n"
     ]
    }
   ],
   "source": [
    "try:\n",
    "    with open('my1.txt') as fin:\n",
    "        print(fin.readline())\n",
    "except FileNotFoundError:\n",
    "    print('Не удается найти файл')\n",
    "except PermissionError:\n",
    "    print('Нет разрешения доступа')\n",
    "except:\n",
    "    print('Произошла какая-то ошибка')"
   ]
  },
  {
   "cell_type": "markdown",
   "id": "255bb387",
   "metadata": {},
   "source": [
    "### Почему информацию нельзя хранить в том виде, в котором мы привыкли ее видеть в программе."
   ]
  },
  {
   "cell_type": "code",
   "execution_count": 2,
   "id": "e04f7851",
   "metadata": {},
   "outputs": [
    {
     "name": "stdout",
     "output_type": "stream",
     "text": [
      "<class 'str'>\n",
      "[1, 2, 'hello', [5, 6, 7], 0, ['python', 'hello']]\n",
      "[   '\n"
     ]
    }
   ],
   "source": [
    "with open('01.txt') as f:\n",
    "    s = f.read()\n",
    "    print(type(s))\n",
    "    print(s)\n",
    "    print(s[0], s[3], s[7])"
   ]
  }
 ],
 "metadata": {
  "kernelspec": {
   "display_name": "Python 3",
   "language": "python",
   "name": "python3"
  },
  "language_info": {
   "codemirror_mode": {
    "name": "ipython",
    "version": 3
   },
   "file_extension": ".py",
   "mimetype": "text/x-python",
   "name": "python",
   "nbconvert_exporter": "python",
   "pygments_lexer": "ipython3",
   "version": "3.12.3"
  }
 },
 "nbformat": 4,
 "nbformat_minor": 5
}
