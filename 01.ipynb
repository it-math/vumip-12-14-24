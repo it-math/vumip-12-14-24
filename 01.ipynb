{
 "cells": [
  {
   "cell_type": "code",
   "execution_count": 9,
   "metadata": {},
   "outputs": [
    {
     "name": "stdout",
     "output_type": "stream",
     "text": [
      "28\n",
      "28\n",
      "60\n",
      "60\n",
      "24\n",
      "24\n"
     ]
    }
   ],
   "source": [
    "import sys\n",
    "a = 0\n",
    "b = 1230000000000000000000000000000000000000000000000000000000000000000000000000000\n",
    "c = 12300000000000000000000000.1230000000000000000000000\n",
    "print(a.__sizeof__())\n",
    "print(sys.getsizeof(a))\n",
    "print(b.__sizeof__())\n",
    "print(sys.getsizeof(b))\n",
    "print(c.__sizeof__())\n",
    "print(sys.getsizeof(c))"
   ]
  },
  {
   "cell_type": "code",
   "execution_count": null,
   "metadata": {},
   "outputs": [
    {
     "name": "stdout",
     "output_type": "stream",
     "text": [
      "72\n",
      "88\n",
      "48\n",
      "64\n",
      "200\n",
      "216\n"
     ]
    }
   ],
   "source": [
    "import sys\n",
    "a = [1,2,3]\n",
    "b = (1, 2, 3)\n",
    "c = {1, 2, 3}\n",
    "print(a.__sizeof__())\n",
    "print(sys.getsizeof(a))\n",
    "print(b.__sizeof__())\n",
    "print(sys.getsizeof(a))\n",
    "print(c.__sizeof__())\n"
   ]
  },
  {
   "cell_type": "code",
   "execution_count": 1,
   "metadata": {},
   "outputs": [
    {
     "name": "stdout",
     "output_type": "stream",
     "text": [
      "85160\n",
      "85176\n",
      "80024\n",
      "80040\n",
      "524488\n",
      "524504\n",
      "524488\n",
      "524504\n"
     ]
    }
   ],
   "source": [
    "import sys\n",
    "import random\n",
    "n = 10000\n",
    "a = [random.randint(1,100000) for i in range(n)]\n",
    "b = tuple(a)\n",
    "c = {random.randint(1,100000) for i in range(n)}\n",
    "d = set()\n",
    "while len(d) < n:\n",
    "    d.add(random.randint(1,100000))\n",
    "print(a.__sizeof__())\n",
    "print(sys.getsizeof(a))\n",
    "print(b.__sizeof__())\n",
    "print(sys.getsizeof(b))\n",
    "print(c.__sizeof__())\n",
    "print(sys.getsizeof(c))\n",
    "print(d.__sizeof__())\n",
    "print(sys.getsizeof(d))"
   ]
  },
  {
   "cell_type": "code",
   "execution_count": 2,
   "metadata": {},
   "outputs": [
    {
     "name": "stdout",
     "output_type": "stream",
     "text": [
      "9506\n"
     ]
    }
   ],
   "source": [
    "print(len(c))"
   ]
  }
 ],
 "metadata": {
  "kernelspec": {
   "display_name": "Python 3",
   "language": "python",
   "name": "python3"
  },
  "language_info": {
   "codemirror_mode": {
    "name": "ipython",
    "version": 3
   },
   "file_extension": ".py",
   "mimetype": "text/x-python",
   "name": "python",
   "nbconvert_exporter": "python",
   "pygments_lexer": "ipython3",
   "version": "3.12.3"
  }
 },
 "nbformat": 4,
 "nbformat_minor": 2
}
