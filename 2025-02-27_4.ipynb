{
 "cells": [
  {
   "cell_type": "markdown",
   "metadata": {},
   "source": [
    "# Примеры решения задач на циклы"
   ]
  },
  {
   "cell_type": "markdown",
   "metadata": {},
   "source": [
    "## Сумма и произведение последовательности чисел"
   ]
  },
  {
   "cell_type": "markdown",
   "metadata": {},
   "source": [
    "#### Задача накопления суммы или произведения встречается в программировании довольно часто.  \n",
    "#### **Сумма последовательности чисел**  \n",
    "#### Дана последовательность чисел, завершающаяся числом 0. Найдите сумму всех этих чисел.  \n",
    "**Решение:**  \n",
    "#### При поиске суммы чисел начальное значение переменной, в которой происходит накопление результата, должно равняться нулю."
   ]
  },
  {
   "cell_type": "code",
   "execution_count": 1,
   "metadata": {},
   "outputs": [
    {
     "name": "stdout",
     "output_type": "stream",
     "text": [
      "3\n",
      "3\n",
      "6\n",
      "1\n",
      "2\n",
      "0\n",
      "15\n"
     ]
    }
   ],
   "source": [
    "s = 0\n",
    "x = int(input())\n",
    "while x != 0:\n",
    "    s += x\n",
    "    x = int(input())\n",
    "print(s)"
   ]
  },
  {
   "cell_type": "markdown",
   "metadata": {},
   "source": [
    "#### **Произведение последовательности чисел**  \n",
    "#### Дана последовательность чисел, завершающаяся числом 0. Найдите произведение всех этих чисел.  \n",
    "#### **Решение:**  "
   ]
  },
  {
   "cell_type": "code",
   "execution_count": 2,
   "metadata": {},
   "outputs": [
    {
     "name": "stdout",
     "output_type": "stream",
     "text": [
      "2\n",
      "6\n",
      "1\n",
      "0\n",
      "12\n"
     ]
    }
   ],
   "source": [
    "p = 1\n",
    "x = int(input())\n",
    "while x != 0:\n",
    "    p *= x\n",
    "    x = int(input())\n",
    "print(p)"
   ]
  },
  {
   "cell_type": "markdown",
   "metadata": {},
   "source": [
    "#### Очевидно, при поиске произведения начальное значение переменной, в которой происходит накопление результата, должно равняться 1."
   ]
  },
  {
   "cell_type": "markdown",
   "metadata": {},
   "source": [
    "## **Фильтрация потока чисел**"
   ]
  },
  {
   "cell_type": "markdown",
   "metadata": {},
   "source": [
    "#### Фильтрация необходима в случае, если не все числа последовательности подлежат обработке.  \n",
    "#### Например, если требуется просуммировать только четные числа:  "
   ]
  },
  {
   "cell_type": "code",
   "execution_count": 3,
   "metadata": {},
   "outputs": [
    {
     "name": "stdout",
     "output_type": "stream",
     "text": [
      "2\n",
      "5\n",
      "1\n",
      "4\n",
      "0\n",
      "6\n"
     ]
    }
   ],
   "source": [
    "summa = 0\n",
    "x = int(input())\n",
    "while x != 0:\n",
    "    if x%2 == 0:\n",
    "        summa += x\n",
    "    x = int(input())\n",
    "print(summa)"
   ]
  },
  {
   "cell_type": "markdown",
   "metadata": {},
   "source": [
    "#### Или же, если требуется найти произведение только отрицательных чисел:"
   ]
  },
  {
   "cell_type": "code",
   "execution_count": 4,
   "metadata": {},
   "outputs": [
    {
     "name": "stdout",
     "output_type": "stream",
     "text": [
      "2\n",
      "-4\n",
      "-3\n",
      "2\n",
      "0\n",
      "12\n"
     ]
    }
   ],
   "source": [
    "p = 1\n",
    "x = int(input())\n",
    "while x != 0:\n",
    "    if x < 0:\n",
    "        p *= x\n",
    "    x = int(input())\n",
    "print(p)"
   ]
  },
  {
   "cell_type": "markdown",
   "metadata": {},
   "source": [
    "#### **Рассмотрим пример.** Требуется найти минимальное из нечетных чисел, которые не делятся на три. В данном примере выводятся промежуточные результаты для понимания работы программы. "
   ]
  },
  {
   "cell_type": "code",
   "execution_count": 5,
   "metadata": {},
   "outputs": [
    {
     "name": "stdout",
     "output_type": "stream",
     "text": [
      "Введите x, x = 3\n",
      "Не подходит, введите x, x =7\n",
      "min (промежуточный)= 7\n",
      "x=1\n",
      "min (промежуточный)= 1\n",
      "x=0\n",
      "Минимальное нечетное число, не кратное 3, min = 1\n"
     ]
    }
   ],
   "source": [
    "x = int(input('Введите x, x = '))\n",
    "while not(x%2 == 1 and x%3 != 0):\n",
    "    print('Не подходит, введите x, x =',end='')\n",
    "    x = int(input())\n",
    "temp_minimum = x\n",
    "print('min (промежуточный)=',temp_minimum)\n",
    "x = int(input('x='))\n",
    "while x != 0:\n",
    "    if x%2 == 1 and x%3 != 0:\n",
    "        if x < temp_minimum:\n",
    "            temp_minimum = x\n",
    "            print('min (промежуточный)=',temp_minimum)\n",
    "    x = int(input('x='))\n",
    "print('Минимальное нечетное число, не кратное 3, min =',temp_minimum)"
   ]
  },
  {
   "cell_type": "markdown",
   "metadata": {},
   "source": [
    "#### **Пример.** Количество определенных (например, четных) чисел может потребоваться пересчитать:"
   ]
  },
  {
   "cell_type": "code",
   "execution_count": 6,
   "metadata": {},
   "outputs": [
    {
     "name": "stdout",
     "output_type": "stream",
     "text": [
      "4\n",
      "5\n",
      "1\n",
      "3\n",
      "8\n",
      "0\n",
      "2\n"
     ]
    }
   ],
   "source": [
    "k = 0\n",
    "x = int(input())\n",
    "while x != 0:\n",
    "    if x%2 == 0:\n",
    "        k += 1\n",
    "    x = int(input())\n",
    "print(k)"
   ]
  },
  {
   "cell_type": "markdown",
   "metadata": {},
   "source": [
    "#### **Пример.** Найти среднее арифметическое только четных чисел:"
   ]
  },
  {
   "cell_type": "code",
   "execution_count": 7,
   "metadata": {},
   "outputs": [
    {
     "name": "stdout",
     "output_type": "stream",
     "text": [
      "3\n",
      "4\n",
      "2\n",
      "9\n",
      "6\n",
      "0\n",
      "Среднее арифметическое 4.0\n"
     ]
    }
   ],
   "source": [
    "summa = 0\n",
    "k = 0\n",
    "x = int(input())\n",
    "while x != 0:\n",
    "    if x%2 == 0:\n",
    "        summa += x\n",
    "        k += 1\n",
    "    x = int(input())\n",
    "print('Среднее арифметическое',summa/k)"
   ]
  },
  {
   "cell_type": "markdown",
   "metadata": {},
   "source": [
    "#### **Пример.** Третий по величине максимум из нечетных чисел."
   ]
  },
  {
   "cell_type": "code",
   "execution_count": null,
   "metadata": {},
   "outputs": [
    {
     "name": "stdout",
     "output_type": "stream",
     "text": [
      "Введите первое число, x = 3\n",
      "Введите второе число, x = 2\n",
      "Введите второе число, x = 1\n",
      "max1 =  3 max2 =  1\n",
      "Введите третье число, x = 5\n",
      "max1 =  5 max2 =  3 max3 =  1\n",
      "Введите число, x = 7\n",
      "Введите число, x = 1\n",
      "max1= 7 max2= 5 max3= 3\n"
     ]
    }
   ],
   "source": [
    "#найдем первые три нечетные числа\n",
    "x = int(input('Введите первое число, x = '))\n",
    "while x % 2 == 0:\n",
    "    x = int(input('Введите первое число, x = '))\n",
    "# Первое подходящее – помещаем его в первый максимум!\n",
    "max1 = x\n",
    "x = int(input('Введите второе число, x = '))\n",
    "while x % 2 == 0:\n",
    "    x = int(input('Введите второе число, x = '))\n",
    "# Второе подходящее – помещаем его во второй максимум!\n",
    "max2 = x\n",
    "# Сравниваем максимумы\n",
    "if x > max1:\n",
    "    max2 = max1\n",
    "    max1 = x\n",
    "# Выводим их на экран для контроля\n",
    "print('max1 = ',max1,'max2 = ',max2)\n",
    "x = int(input('Введите третье число, x = '))\n",
    "while x % 2 == 0:\n",
    "    x = int(input('Введите третье число, x = '))\n",
    "# Третье подходящее – помещаем его в третий максимум!\n",
    "max3 = x\n",
    "# Сравниваем максимумы\n",
    "if x > max1:\n",
    "    max3 = max2\n",
    "    max2 = max1\n",
    "    max1 = x\n",
    "elif x > max2:\n",
    "    max3 = max2\n",
    "    max2 = x\n",
    "# Выводим их на экран для контроля\n",
    "print('max1 = ',max1,'max2 = ',max2, 'max3 = ',max3)\n",
    "x = int(input('Введите число, x = '))\n",
    "while x != 1:\n",
    "    if x%2 != 0: #нечетное\n",
    "        if x > max1:\n",
    "            max3 = max2\n",
    "            max2 = max1\n",
    "            max1 = x\n",
    "        elif x > max2:\n",
    "            max3 = max2\n",
    "            max2 = x\n",
    "        elif x > max3:\n",
    "            max3 = x\n",
    "    x = int(input('Введите число, x = '))\n",
    "print('max1=',max1,'max2=',max2,'max3=',max3)"
   ]
  },
  {
   "cell_type": "markdown",
   "metadata": {},
   "source": [
    "## **Поиск числа в потоке на Python**"
   ]
  },
  {
   "cell_type": "markdown",
   "metadata": {},
   "source": [
    "#### Поиск числа в последовательности происходит схожим образом с ее суммированием. Только переменная, в которой происходит «накопление результата» имеет булевское значение — либо значение есть в потоке (True), либо его в потоке нет (False). До начала просмотра чисел считаем, что числа в последовательности нет."
   ]
  },
  {
   "cell_type": "code",
   "execution_count": null,
   "metadata": {},
   "outputs": [],
   "source": [
    "flag = False # k = 0\n",
    "number = int(input('Введите искомое число:'))\n",
    "x = int(input('Введите число последовательности:'))\n",
    "while x != 0:\n",
    "  if x == number:\n",
    "    flag = True # k += 1\n",
    "    break\n",
    "  x = int(input('Введите число последовательности:'))\n",
    "print(flag)\n",
    "if flag: # k > 0:\n",
    "  print('Число',number, 'найдено')\n",
    "else:\n",
    "  print('Число',number, 'не найдено')"
   ]
  },
  {
   "cell_type": "markdown",
   "metadata": {},
   "source": [
    "## **Поиск максимального и минимального числа в потоке**"
   ]
  },
  {
   "cell_type": "markdown",
   "metadata": {},
   "source": [
    "#### Поиск максимального и минимального числа в последовательности происходит схожим образом с поиском заданного конкретного числа, но переменная, в которой должен храниться временный результат, имеет значение, по типу совпадающее с самими числами последовательности — это временный (текущий) максимум или минимум среди уже просмотренных значений.  \n",
    "#### Чему следует положить значение временного макси-мума/минимума в самом начале?  \n",
    "#### Первое число последовательности следует считать до начала циклической обработки, и положить его значение как значение временного максимума/минимума.  "
   ]
  },
  {
   "cell_type": "code",
   "execution_count": null,
   "metadata": {},
   "outputs": [],
   "source": [
    "# вводим первое число, которое сначала будет \n",
    "# и минимумом и максимумом\n",
    "temp_maximum = int(input('Введите число, x = '))\n",
    "temp_minimum = temp_maximum\n",
    "#вводим следующее число\n",
    "x = int(input('Введите число, x = '))\n",
    "# пока число не равно 0 сравниваем его с максимумом и минимумом\n",
    "# и изменяем их если требуется\n",
    "while x != 0:\n",
    "  if x > temp_maximum:\n",
    "    temp_maximum = x\n",
    "  if x < temp_minimum:\n",
    "    temp_minimum = x\n",
    "  x = int(input('Введите число, x = '))\n",
    "print('min=',temp_minimum, 'max =',temp_maximum)"
   ]
  },
  {
   "cell_type": "markdown",
   "metadata": {},
   "source": [
    "#### Если же числа последовательности фильтруются, и не все относятся к тем, среди которых требуется искать мини-мум, то в качестве минимума следует положить самое большое из возможных чисел в потоке, а в качестве максимума — самое маленькое из возможных.\n",
    "#### Если об этом информации нет, то поиск первого подходящего по критериям фильтрации числа должен быть произведен до цикла отбора минимального/максимального (как это делалось ранее). "
   ]
  },
  {
   "cell_type": "code",
   "execution_count": null,
   "metadata": {},
   "outputs": [],
   "source": [
    "s = 0\n",
    "while True:\n",
    "    x = int(input())\n",
    "    if x > 0:\n",
    "        s += x\n",
    "    else:\n",
    "        break\n",
    "print(s)\n"
   ]
  }
 ],
 "metadata": {
  "kernelspec": {
   "display_name": "Python 3",
   "language": "python",
   "name": "python3"
  },
  "language_info": {
   "codemirror_mode": {
    "name": "ipython",
    "version": 3
   },
   "file_extension": ".py",
   "mimetype": "text/x-python",
   "name": "python",
   "nbconvert_exporter": "python",
   "pygments_lexer": "ipython3",
   "version": "3.12.3"
  }
 },
 "nbformat": 4,
 "nbformat_minor": 2
}
