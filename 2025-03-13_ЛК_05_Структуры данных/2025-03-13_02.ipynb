{
 "cells": [
  {
   "cell_type": "markdown",
   "metadata": {},
   "source": [
    "# Списки"
   ]
  },
  {
   "cell_type": "markdown",
   "metadata": {},
   "source": [
    "#### **Список (list)**  — это упорядоченная коллекция объектов. Списки могут иметь сколько угодно уровней вложенности и хранить неограниченное количество объектов. Кроме того, в одном списке могут одновременно храниться объекты разных типов."
   ]
  },
  {
   "cell_type": "markdown",
   "metadata": {},
   "source": [
    "### Создание списка, вывод списка"
   ]
  },
  {
   "cell_type": "code",
   "execution_count": 2,
   "metadata": {},
   "outputs": [
    {
     "name": "stdout",
     "output_type": "stream",
     "text": [
      "[4, 7, 1]\n"
     ]
    }
   ],
   "source": [
    "a = [4, 7, 1]\n",
    "print(a)"
   ]
  },
  {
   "cell_type": "code",
   "execution_count": 14,
   "metadata": {},
   "outputs": [
    {
     "name": "stdout",
     "output_type": "stream",
     "text": [
      "[1, 100, 3, 200, 5, 300, 7, 1000]\n",
      "[1, 100, 3, 200, 5, 300, 7, 1000, 1000]\n"
     ]
    }
   ],
   "source": [
    "print(a)\n",
    "a.append(1000)\n",
    "print(a)"
   ]
  },
  {
   "cell_type": "code",
   "execution_count": 4,
   "metadata": {},
   "outputs": [
    {
     "name": "stdout",
     "output_type": "stream",
     "text": [
      "[100, 7, 1]\n",
      "3\n"
     ]
    }
   ],
   "source": [
    "a[0] = 100\n",
    "print(a)\n",
    "print(len(a))"
   ]
  },
  {
   "cell_type": "code",
   "execution_count": 16,
   "metadata": {},
   "outputs": [
    {
     "name": "stdout",
     "output_type": "stream",
     "text": [
      "[3, 4, 5, 6, 1]\n",
      "[3, 4, 5, 6, 1, 10]\n"
     ]
    }
   ],
   "source": [
    "a = []\n",
    "for i in range(5):\n",
    "    a.append(int(input()))\n",
    "print(a)\n",
    "a += [10]\n",
    "print(a)"
   ]
  },
  {
   "cell_type": "code",
   "execution_count": 11,
   "metadata": {},
   "outputs": [
    {
     "name": "stdout",
     "output_type": "stream",
     "text": [
      "[3, 4, 5, 6]\n",
      "[2, 3, 4, 5]\n",
      "[1, 100, 3, 200, 5, 300, 7]\n"
     ]
    }
   ],
   "source": [
    "a = [1, 2, 3, 4, 5, 6, 7]\n",
    "print(a[2:6])\n",
    "b = a[1:5]\n",
    "print(b)\n",
    "#a[1:5] = [8, 10]\n",
    "#print(a)\n",
    "a[1:6:2] = [100, 200, 300]\n",
    "print(a)"
   ]
  },
  {
   "cell_type": "code",
   "execution_count": 18,
   "metadata": {},
   "outputs": [
    {
     "name": "stdout",
     "output_type": "stream",
     "text": [
      "[4, 8, 2, 3, 9, 5, 10, 5, 8, 7, 1, 9, 2, 9, 10, 7, 6, 5, 7, 1]\n",
      "[4, 8, 2, 10, 8, 2, 10, 6]\n"
     ]
    }
   ],
   "source": [
    "import random\n",
    "b = [random.randint(1,10) for i in range(20)]\n",
    "print(b)\n",
    "c = [x for x in b if x % 2 == 0]\n",
    "print(c)"
   ]
  },
  {
   "cell_type": "code",
   "execution_count": 4,
   "metadata": {},
   "outputs": [
    {
     "name": "stdout",
     "output_type": "stream",
     "text": [
      "6.423951625823975\n",
      "5.939071178436279\n"
     ]
    }
   ],
   "source": [
    "import time\n",
    "import random\n",
    "n = 1000000\n",
    "st = time.time()\n",
    "a = []\n",
    "for i in range(n):\n",
    "    a.append(random.randint(1,1000))\n",
    "print(time.time()-st)\n",
    "st = time.time()\n",
    "a = [random.randint(1,1000) for i in range(n)]\n",
    "print(time.time()-st)"
   ]
  },
  {
   "cell_type": "code",
   "execution_count": 17,
   "metadata": {},
   "outputs": [
    {
     "name": "stdout",
     "output_type": "stream",
     "text": [
      "[4, 6, 10, 7, 9, 6, 5, 9, 8, 3]\n",
      "[4, 6, 10, 7, 9, 6, 5, 9, 8]\n",
      "[4, 6, 10, 7, 9, 6, 5, 9, 8]\n",
      "[4, 5, 6, 6, 7, 8, 9, 9, 10]\n",
      "[4, 6, 10, 7, 9, 6, 5, 9, 8, 4, 5, 6, 6, 7, 8, 9, 9, 10]\n",
      "[4, 6, 10, 7, 9, 6, 5, 9, 8, 4, 5, 6, 6, 7, 8, 9, 9, 10]\n"
     ]
    },
    {
     "ename": "ValueError",
     "evalue": "100 is not in list",
     "output_type": "error",
     "traceback": [
      "\u001b[1;31m---------------------------------------------------------------------------\u001b[0m",
      "\u001b[1;31mValueError\u001b[0m                                Traceback (most recent call last)",
      "Cell \u001b[1;32mIn[17], line 13\u001b[0m\n\u001b[0;32m     11\u001b[0m a\u001b[38;5;241m.\u001b[39mextend(b)  \u001b[38;5;66;03m# a = a + b\u001b[39;00m\n\u001b[0;32m     12\u001b[0m \u001b[38;5;28mprint\u001b[39m(a)\n\u001b[1;32m---> 13\u001b[0m k \u001b[38;5;241m=\u001b[39m \u001b[43ma\u001b[49m\u001b[38;5;241;43m.\u001b[39;49m\u001b[43mindex\u001b[49m\u001b[43m(\u001b[49m\u001b[38;5;241;43m100\u001b[39;49m\u001b[43m)\u001b[49m\n\u001b[0;32m     14\u001b[0m \u001b[38;5;28mprint\u001b[39m(k)\n",
      "\u001b[1;31mValueError\u001b[0m: 100 is not in list"
     ]
    }
   ],
   "source": [
    "a = [random.randint(1,10) for i in range(10)] \n",
    "print(a)\n",
    "a.pop()\n",
    "print(a)\n",
    "a.sort(reverse=True)\n",
    "b = sorted(a)\n",
    "print(a)\n",
    "print(b)\n",
    "c = a + b\n",
    "print(c)\n",
    "a.extend(b)  # a = a + b\n",
    "print(a)\n",
    "if 100 in a:\n",
    "    k = a.index(100)\n",
    "    print(k)\n",
    "\n"
   ]
  },
  {
   "cell_type": "code",
   "execution_count": 22,
   "metadata": {},
   "outputs": [
    {
     "name": "stdout",
     "output_type": "stream",
     "text": [
      "[1, 2, 3, 4, 5]\n",
      "[1, 2, 3, 4, 5]\n",
      "[100, 2, 3, 4, 5]\n",
      "[100, 2, 3, 4, 5]\n",
      "[100, 2, 3, 4, 5]\n",
      "[100, 2, 3, 4, 5]\n",
      "[200, 2, 3, 4, 5]\n",
      "[100, 2, 3, 4, 5]\n",
      "[300, 2, 3, 4, 5]\n",
      "[200, 2, 3, 4, 5]\n"
     ]
    }
   ],
   "source": [
    "a = [1, 2, 3, 4, 5]\n",
    "b = a\n",
    "print(a)\n",
    "print(b)\n",
    "a[0] = 100\n",
    "print(a)\n",
    "print(b)\n",
    "b = a[:]\n",
    "print(a)\n",
    "print(b)\n",
    "a[0] = 200\n",
    "print(a)\n",
    "print(b)\n",
    "b = a.copy()\n",
    "a[0] = 300\n",
    "print(a)\n",
    "print(b)"
   ]
  },
  {
   "cell_type": "code",
   "execution_count": 25,
   "metadata": {},
   "outputs": [
    {
     "name": "stdout",
     "output_type": "stream",
     "text": [
      "[[1, 2, 3], [4, 5, 6], [7, 8, 9]]\n",
      "[1, 2, 3]\n",
      "[4, 5, 6]\n",
      "[7, 8, 9]\n",
      "2\n"
     ]
    }
   ],
   "source": [
    "a = [[1,2,3],[4,5,6],[7,8,9]]\n",
    "print(a)\n",
    "for x in a:\n",
    "    print(x)\n",
    "print(a[0][1])"
   ]
  },
  {
   "cell_type": "code",
   "execution_count": 29,
   "metadata": {},
   "outputs": [
    {
     "name": "stdout",
     "output_type": "stream",
     "text": [
      "1 2 3 \n",
      "4 5 6 \n",
      "7 8 9 \n"
     ]
    }
   ],
   "source": [
    "for i in range(len(a)):\n",
    "    for j in range(len(a[i])):\n",
    "        print(a[i][j], end=' ')\n",
    "    print()"
   ]
  },
  {
   "cell_type": "code",
   "execution_count": 32,
   "metadata": {},
   "outputs": [
    {
     "name": "stdout",
     "output_type": "stream",
     "text": [
      "[[0, 1, 2, 3, 4], [1, 2, 3, 4, 5], [2, 3, 4, 5, 6]]\n"
     ]
    }
   ],
   "source": [
    "a = []\n",
    "n, m = 3, 5\n",
    "for i in range(n):\n",
    "    b = []\n",
    "    for j in range(m):\n",
    "        b.append(i+j)\n",
    "    #a.append(b)\n",
    "    a += [b]\n",
    "print(a)"
   ]
  },
  {
   "cell_type": "code",
   "execution_count": 33,
   "metadata": {},
   "outputs": [
    {
     "name": "stdout",
     "output_type": "stream",
     "text": [
      "[[0, 1, 2, 3, 4], [1, 2, 3, 4, 5], [2, 3, 4, 5, 6]]\n"
     ]
    }
   ],
   "source": [
    "a = [[i + j for j in range(m)] for i in range(n)]\n",
    "print(a)"
   ]
  },
  {
   "cell_type": "code",
   "execution_count": 38,
   "metadata": {},
   "outputs": [
    {
     "name": "stdout",
     "output_type": "stream",
     "text": [
      "[[1, 2, 3, 4], [1, 2, 3, 4], [1, 2, 3, 4]]\n",
      "[[100, 2, 3, 4], [100, 2, 3, 4], [100, 2, 3, 4]]\n",
      "[[100, 2, 3, 4], [100, 2, 3, 4], [100, 2, 3, 4]]\n"
     ]
    }
   ],
   "source": [
    "b = [1, 2, 3, 4]\n",
    "m = [b for i in range(3)]\n",
    "print(m)\n",
    "m[0][0] = 100\n",
    "print(m)\n",
    "b = [100, 200, 300, 400]\n",
    "print(m)"
   ]
  },
  {
   "cell_type": "code",
   "execution_count": 47,
   "metadata": {},
   "outputs": [
    {
     "name": "stdout",
     "output_type": "stream",
     "text": [
      "[[0, 1, 2, 3, 4], [1, 2, 3, 4, 5], [2, 3, 4, 5, 6], [3, 4, 5, 6, 7], [4, 5, 6, 7, 8]]\n",
      "3\n",
      "4\n",
      "5\n",
      "6\n",
      "7\n",
      "1 2 3 4\n",
      "1 2 3 4\n",
      "['1', '2', '3', '4']\n"
     ]
    }
   ],
   "source": [
    "a = [[i + j for j in range(5)] for i in range(5)]\n",
    "print(a)\n",
    "for i in range(len(a)):\n",
    "    print(a[i][3])\n",
    "\n",
    "#print(max(a[3]))\n",
    "a[2], a[3] = a[3], a[2]\n",
    "\n",
    "a = ['1', '2', '3', '4']\n",
    "s = ' '.join(a)\n",
    "print(s)\n",
    "a = [1, 2, 3, 4]\n",
    "#s = ' '.join([str(x) for x in a])\n",
    "s = ' '.join(map(str, a))\n",
    "print(s)\n",
    "print(list(map(str, a)))"
   ]
  }
 ],
 "metadata": {
  "kernelspec": {
   "display_name": "Python 3",
   "language": "python",
   "name": "python3"
  },
  "language_info": {
   "codemirror_mode": {
    "name": "ipython",
    "version": 3
   },
   "file_extension": ".py",
   "mimetype": "text/x-python",
   "name": "python",
   "nbconvert_exporter": "python",
   "pygments_lexer": "ipython3",
   "version": "3.8.3"
  }
 },
 "nbformat": 4,
 "nbformat_minor": 2
}
