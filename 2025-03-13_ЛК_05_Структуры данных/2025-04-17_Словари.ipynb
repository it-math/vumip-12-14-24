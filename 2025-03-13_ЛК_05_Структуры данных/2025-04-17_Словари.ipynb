{
 "cells": [
  {
   "attachments": {},
   "cell_type": "markdown",
   "metadata": {},
   "source": [
    "## Словари (dict)"
   ]
  },
  {
   "attachments": {},
   "cell_type": "markdown",
   "metadata": {},
   "source": [
    "Структура данных, позволяющая идентифицировать ее элементы не по числовому индексу, а по произвольному, называется словарем."
   ]
  },
  {
   "attachments": {},
   "cell_type": "markdown",
   "metadata": {},
   "source": [
    "Словарь — это **неупорядоченное** множество пар ключ – значение. "
   ]
  },
  {
   "attachments": {},
   "cell_type": "markdown",
   "metadata": {},
   "source": [
    "Словари в Python оптимизированы для получения значения по известному ключу."
   ]
  },
  {
   "attachments": {},
   "cell_type": "markdown",
   "metadata": {},
   "source": [
    "Т.е. словарь – это некий аналог адресной книги, в которой можно найти адрес или контактную информацию о человеке, зная лишь его имя; т.е. некоторые ключи (имена) связаны со значениями (информацией). **Ключ должен быть уникальным** (нельзя получить корректную информацию, если у нас записаны два человека с полностью одинаковыми именами)."
   ]
  },
  {
   "attachments": {},
   "cell_type": "markdown",
   "metadata": {},
   "source": [
    "В словарях в качестве ключей могут использоваться только **неизменяемые** объекты (числа, строки, кортежи), а в качестве значений можно использовать как неизменяемые, так и изменяемые объекты. "
   ]
  },
  {
   "attachments": {},
   "cell_type": "markdown",
   "metadata": {},
   "source": [
    "Пары ключ-значение указываются в словаре следующим образом:\n",
    "\n",
    "**d = {'key1' : value1, 'key2' : value2 }**.\n"
   ]
  },
  {
   "attachments": {},
   "cell_type": "markdown",
   "metadata": {},
   "source": [
    "Ключ и значение разделяются двоеточием, а пары друг от друга отделяются запятыми, а всё это заключается в фигурные скобки.\n",
    "Словари являются экземплярами/объектами класса dict.\n"
   ]
  },
  {
   "attachments": {},
   "cell_type": "markdown",
   "metadata": {},
   "source": [
    "#### Создание словаря"
   ]
  },
  {
   "cell_type": "markdown",
   "metadata": {},
   "source": [
    "Создать словарь можно несколькими способами. "
   ]
  },
  {
   "attachments": {},
   "cell_type": "markdown",
   "metadata": {},
   "source": [
    "1. С помощью литерала"
   ]
  },
  {
   "cell_type": "code",
   "execution_count": 2,
   "metadata": {},
   "outputs": [],
   "source": [
    "d = {}\n",
    "d = dict()\n",
    "dd = {1:4, '2': 3}\n",
    "ddd = {'a':1, 'b':2}"
   ]
  },
  {
   "attachments": {},
   "cell_type": "markdown",
   "metadata": {},
   "source": [
    "2.\tС помощью функции dict"
   ]
  },
  {
   "cell_type": "code",
   "execution_count": 64,
   "metadata": {},
   "outputs": [
    {
     "name": "stdout",
     "output_type": "stream",
     "text": [
      "{'key1': 2, 'key2': 'a'}\n"
     ]
    }
   ],
   "source": [
    "d = dict(key1=2, key2='a')\n",
    "print(d)"
   ]
  },
  {
   "cell_type": "code",
   "execution_count": 65,
   "metadata": {},
   "outputs": [
    {
     "ename": "SyntaxError",
     "evalue": "expression cannot contain assignment, perhaps you meant \"==\"? (3038061102.py, line 1)",
     "output_type": "error",
     "traceback": [
      "\u001b[1;36m  Cell \u001b[1;32mIn[65], line 1\u001b[1;36m\u001b[0m\n\u001b[1;33m    d = dict(1=2, 2='a')\u001b[0m\n\u001b[1;37m             ^\u001b[0m\n\u001b[1;31mSyntaxError\u001b[0m\u001b[1;31m:\u001b[0m expression cannot contain assignment, perhaps you meant \"==\"?\n"
     ]
    }
   ],
   "source": [
    "d = dict(1=2, 2='a')\n",
    "print(d)"
   ]
  },
  {
   "attachments": {},
   "cell_type": "markdown",
   "metadata": {},
   "source": [
    "В этом способе ключи передаются как именованные параметры функции dict, поэтому в этом случае ключи могут быть только строками, причем являющимися корректными идентификаторами."
   ]
  },
  {
   "cell_type": "code",
   "execution_count": 1,
   "metadata": {},
   "outputs": [
    {
     "name": "stdout",
     "output_type": "stream",
     "text": [
      "{'key1': 2, 'key2': 3}\n"
     ]
    }
   ],
   "source": [
    "d = dict([('key1',2),('key2',3)])\n",
    "print(d)"
   ]
  },
  {
   "cell_type": "code",
   "execution_count": 67,
   "metadata": {},
   "outputs": [
    {
     "name": "stdout",
     "output_type": "stream",
     "text": [
      "{'key1': 4, 'key2': 3, 'key3': 1}\n"
     ]
    }
   ],
   "source": [
    "keys = ['key1','key2', 'key3']\n",
    "a = [4, 3, 1]\n",
    "d = dict(zip(keys, a))\n",
    "print(d)"
   ]
  },
  {
   "attachments": {},
   "cell_type": "markdown",
   "metadata": {},
   "source": [
    "3.\tC помощью метода fromkeys"
   ]
  },
  {
   "cell_type": "code",
   "execution_count": 7,
   "metadata": {},
   "outputs": [
    {
     "name": "stdout",
     "output_type": "stream",
     "text": [
      "{'key1': None, 'key2': None, 'key3': None}\n"
     ]
    }
   ],
   "source": [
    "keys = ['key1','key2', 'key3']\n",
    "d = dict.fromkeys(keys)\n",
    "print(d)"
   ]
  },
  {
   "cell_type": "code",
   "execution_count": 68,
   "metadata": {},
   "outputs": [
    {
     "name": "stdout",
     "output_type": "stream",
     "text": [
      "{'key1': 0, 'key2': 0, 'key3': 0}\n"
     ]
    }
   ],
   "source": [
    "keys = ['key1','key2', 'key3']\n",
    "d = dict.fromkeys(keys, 0)\n",
    "print(d)"
   ]
  },
  {
   "cell_type": "code",
   "execution_count": 69,
   "metadata": {},
   "outputs": [
    {
     "name": "stdout",
     "output_type": "stream",
     "text": [
      "{'key1': [4, 1, 2], 'key2': [4, 1, 2], 'key3': [4, 1, 2]}\n"
     ]
    }
   ],
   "source": [
    "keys = ['key1','key2', 'key3']\n",
    "d = dict.fromkeys(keys,[4,1,2])\n",
    "print(d)"
   ]
  },
  {
   "attachments": {},
   "cell_type": "markdown",
   "metadata": {},
   "source": [
    "4.\tС помощью генераторов словарей"
   ]
  },
  {
   "cell_type": "code",
   "execution_count": 70,
   "metadata": {},
   "outputs": [
    {
     "name": "stdout",
     "output_type": "stream",
     "text": [
      "{0: 0, 1: 1, 2: 4, 3: 9, 4: 16, 5: 25, 6: 36, 7: 49, 8: 64, 9: 81}\n"
     ]
    }
   ],
   "source": [
    "d = {x: x**2 for x in range(10)}\n",
    "print(d)"
   ]
  },
  {
   "cell_type": "code",
   "execution_count": 71,
   "metadata": {},
   "outputs": [
    {
     "name": "stdout",
     "output_type": "stream",
     "text": [
      "{'a': 97, 'b': 98, 'c': 99, 'd': 100, 'e': 101, 'f': 102, 'g': 103}\n"
     ]
    }
   ],
   "source": [
    "d = {x: ord(x) for x in 'abcdefg'} \n",
    "print(d)"
   ]
  },
  {
   "attachments": {},
   "cell_type": "markdown",
   "metadata": {},
   "source": [
    "Словари не имеют какого-либо предопределенного ограничения размера. Когда угодно можно добавлять новые пары ключ – значение в словарь или изменять значение, соответствующее существующему ключу.\n",
    "Любой словарь можно заполнить вручную, аналогично спискам.\n"
   ]
  },
  {
   "cell_type": "code",
   "execution_count": 72,
   "metadata": {},
   "outputs": [
    {
     "name": "stdout",
     "output_type": "stream",
     "text": [
      "{'key1': 4, 'key2': 1}\n",
      "{'key1': 4, 'key2': 1, 'key3': 2}\n"
     ]
    }
   ],
   "source": [
    "d = dict()\n",
    "d['key1'] = 4\n",
    "d['key2'] = 1\n",
    "print(d)\n",
    "d['key3'] = 2\n",
    "print(d)"
   ]
  },
  {
   "attachments": {},
   "cell_type": "markdown",
   "metadata": {},
   "source": [
    "Присвоение значения существующему ключу просто заменяет старое значение новым"
   ]
  },
  {
   "cell_type": "code",
   "execution_count": 73,
   "metadata": {},
   "outputs": [
    {
     "name": "stdout",
     "output_type": "stream",
     "text": [
      "{'key1': 5, 'key2': 1, 'key3': 2}\n"
     ]
    }
   ],
   "source": [
    "d['key1'] = 5\n",
    "print(d)"
   ]
  },
  {
   "cell_type": "code",
   "execution_count": null,
   "metadata": {},
   "outputs": [
    {
     "name": "stdout",
     "output_type": "stream",
     "text": [
      "{'key1': [4, 1, 2], 'key2': [4, 1, 2], 'key3': [4, 1, 2]}\n",
      "{'key1': [4, 1, 2, 100], 'key2': [4, 1, 2, 100], 'key3': [4, 1, 2, 100]}\n",
      "{'key1': None, 'key2': [4, 1, 2, 100, 100], 'key3': [4, 1, 2, 100, 100]}\n"
     ]
    }
   ],
   "source": [
    "keys = ['key1','key2', 'key3']\n",
    "d = dict.fromkeys(keys,[4,1,2])\n",
    "print(d)\n",
    "d['key1'].append(100)\n",
    "print(d)\n",
    "d['key1'] = d['key1'].append(100)\n",
    "print(d)"
   ]
  },
  {
   "attachments": {},
   "cell_type": "markdown",
   "metadata": {},
   "source": [
    "#### Работа с элементами словаря"
   ]
  },
  {
   "cell_type": "code",
   "execution_count": 5,
   "metadata": {},
   "outputs": [],
   "source": [
    "d = {1:[1,3,5,7], 2:[4,2,8,6], 0:[11, 13, 15]}"
   ]
  },
  {
   "attachments": {},
   "cell_type": "markdown",
   "metadata": {},
   "source": [
    "функция **len()** возвращает количество элементов словаря"
   ]
  },
  {
   "cell_type": "code",
   "execution_count": 6,
   "metadata": {},
   "outputs": [
    {
     "name": "stdout",
     "output_type": "stream",
     "text": [
      "3\n"
     ]
    }
   ],
   "source": [
    "print(len(d))"
   ]
  },
  {
   "attachments": {},
   "cell_type": "markdown",
   "metadata": {},
   "source": [
    "Основная операция: получение значения элемента по ключу, записывается так же, как и для списков: d[key]"
   ]
  },
  {
   "cell_type": "code",
   "execution_count": 7,
   "metadata": {},
   "outputs": [
    {
     "name": "stdout",
     "output_type": "stream",
     "text": [
      "[1, 3, 5, 7]\n"
     ]
    }
   ],
   "source": [
    "print(d[1])"
   ]
  },
  {
   "cell_type": "code",
   "execution_count": 8,
   "metadata": {},
   "outputs": [
    {
     "name": "stdout",
     "output_type": "stream",
     "text": [
      "15\n"
     ]
    }
   ],
   "source": [
    "print(d[0][2])"
   ]
  },
  {
   "cell_type": "code",
   "execution_count": 9,
   "metadata": {},
   "outputs": [
    {
     "name": "stdout",
     "output_type": "stream",
     "text": [
      "6\n"
     ]
    }
   ],
   "source": [
    "print(d[2][3])"
   ]
  },
  {
   "cell_type": "code",
   "execution_count": null,
   "metadata": {},
   "outputs": [],
   "source": [
    "d = {'k2':[3,6,7], 'k1':[0,4,1]}\n",
    "print(d['k1'][0])"
   ]
  },
  {
   "attachments": {},
   "cell_type": "markdown",
   "metadata": {},
   "source": [
    "Если элемента с заданным ключом не существует в словаре, то возникает **исключение KeyError**"
   ]
  },
  {
   "cell_type": "code",
   "execution_count": 82,
   "metadata": {},
   "outputs": [
    {
     "ename": "KeyError",
     "evalue": "'k3'",
     "output_type": "error",
     "traceback": [
      "\u001b[1;31m---------------------------------------------------------------------------\u001b[0m",
      "\u001b[1;31mKeyError\u001b[0m                                  Traceback (most recent call last)",
      "Cell \u001b[1;32mIn[82], line 2\u001b[0m\n\u001b[0;32m      1\u001b[0m d \u001b[39m=\u001b[39m {\u001b[39m'\u001b[39m\u001b[39mk2\u001b[39m\u001b[39m'\u001b[39m:[\u001b[39m3\u001b[39m,\u001b[39m6\u001b[39m,\u001b[39m7\u001b[39m], \u001b[39m'\u001b[39m\u001b[39mk1\u001b[39m\u001b[39m'\u001b[39m:[\u001b[39m0\u001b[39m,\u001b[39m4\u001b[39m,\u001b[39m1\u001b[39m]}\n\u001b[1;32m----> 2\u001b[0m \u001b[39mprint\u001b[39m(d[\u001b[39m'\u001b[39;49m\u001b[39mk3\u001b[39;49m\u001b[39m'\u001b[39;49m])\n",
      "\u001b[1;31mKeyError\u001b[0m: 'k3'"
     ]
    }
   ],
   "source": [
    "d = {'k2':[3,6,7], 'k1':[0,4,1]}\n",
    "print(d['k3'])"
   ]
  },
  {
   "attachments": {},
   "cell_type": "markdown",
   "metadata": {},
   "source": [
    "Другой способ определения значения по ключу – метод get: **d.get(key)**. "
   ]
  },
  {
   "cell_type": "code",
   "execution_count": 11,
   "metadata": {},
   "outputs": [
    {
     "name": "stdout",
     "output_type": "stream",
     "text": [
      "[3, 6, 7]\n"
     ]
    }
   ],
   "source": [
    "print(d.get('k2'))"
   ]
  },
  {
   "attachments": {},
   "cell_type": "markdown",
   "metadata": {},
   "source": [
    "Если элемента с ключом get нет в словаре, то возвращается значение None. "
   ]
  },
  {
   "cell_type": "code",
   "execution_count": 83,
   "metadata": {},
   "outputs": [
    {
     "name": "stdout",
     "output_type": "stream",
     "text": [
      "None\n"
     ]
    }
   ],
   "source": [
    "print(d.get('k3'))"
   ]
  },
  {
   "attachments": {},
   "cell_type": "markdown",
   "metadata": {},
   "source": [
    "В форме записи с двумя аргументами **d.get(key, val)** метод возвращает значение **val**, если элемент с ключом **key** отсутствует в словаре."
   ]
  },
  {
   "cell_type": "code",
   "execution_count": 13,
   "metadata": {},
   "outputs": [
    {
     "name": "stdout",
     "output_type": "stream",
     "text": [
      "[]\n"
     ]
    }
   ],
   "source": [
    "print(d.get('k3',[]))"
   ]
  },
  {
   "attachments": {},
   "cell_type": "markdown",
   "metadata": {},
   "source": [
    "Проверить принадлежность элемента словарю можно операциями **in** и **not in**, как и для множеств."
   ]
  },
  {
   "cell_type": "code",
   "execution_count": 84,
   "metadata": {},
   "outputs": [
    {
     "name": "stdout",
     "output_type": "stream",
     "text": [
      "True\n"
     ]
    }
   ],
   "source": [
    "print('k1' in d)"
   ]
  },
  {
   "attachments": {},
   "cell_type": "markdown",
   "metadata": {},
   "source": [
    "Для удаления элемента из словаря можно использовать операцию **del d[key]** (операция возбуждает исключение **KeyError**, если такого ключа в словаре нет. "
   ]
  },
  {
   "attachments": {},
   "cell_type": "markdown",
   "metadata": {},
   "source": [
    "**Два безопасных способа удаления элемента из словаря.**\n"
   ]
  },
  {
   "attachments": {},
   "cell_type": "markdown",
   "metadata": {},
   "source": [
    "Способ с предварительной проверкой наличия элемента:"
   ]
  },
  {
   "cell_type": "code",
   "execution_count": 85,
   "metadata": {},
   "outputs": [
    {
     "name": "stdout",
     "output_type": "stream",
     "text": [
      "{'k2': [3, 6, 7]}\n"
     ]
    }
   ],
   "source": [
    "if 'k1' in d:\n",
    "    del d['k1']\n",
    "print(d)\n",
    "\n",
    "if 'key1' in d:\n",
    "    del d['key1']"
   ]
  },
  {
   "attachments": {},
   "cell_type": "markdown",
   "metadata": {},
   "source": [
    "Способ с перехватыванием и обработкой исключения:"
   ]
  },
  {
   "cell_type": "code",
   "execution_count": 20,
   "metadata": {},
   "outputs": [],
   "source": [
    "try:\n",
    "    del d['key1']\n",
    "except KeyError:\n",
    "    pass"
   ]
  },
  {
   "attachments": {},
   "cell_type": "markdown",
   "metadata": {},
   "source": [
    "Еще один способ удалить элемент из словаря: использование метода pop: **d.pop(key)**.  Этот метод возвращает значение удаляемого элемента, если элемент с данным ключом отсутствует в словаре, то возбуждается исключение. "
   ]
  },
  {
   "cell_type": "code",
   "execution_count": 98,
   "metadata": {},
   "outputs": [
    {
     "name": "stdout",
     "output_type": "stream",
     "text": [
      "{'k2': [3, 6, 7], 'k1': [0, 4, 1]}\n"
     ]
    }
   ],
   "source": [
    "d = {'k2':[3,6,7], 'k1':[0,4,1]}\n",
    "print(d)"
   ]
  },
  {
   "cell_type": "code",
   "execution_count": 99,
   "metadata": {},
   "outputs": [
    {
     "ename": "KeyError",
     "evalue": "'a'",
     "output_type": "error",
     "traceback": [
      "\u001b[1;31m---------------------------------------------------------------------------\u001b[0m",
      "\u001b[1;31mKeyError\u001b[0m                                  Traceback (most recent call last)",
      "Cell \u001b[1;32mIn[99], line 1\u001b[0m\n\u001b[1;32m----> 1\u001b[0m x \u001b[39m=\u001b[39m d\u001b[39m.\u001b[39;49mpop(\u001b[39m'\u001b[39;49m\u001b[39ma\u001b[39;49m\u001b[39m'\u001b[39;49m)\n\u001b[0;32m      2\u001b[0m \u001b[39mprint\u001b[39m(x)\n",
      "\u001b[1;31mKeyError\u001b[0m: 'a'"
     ]
    }
   ],
   "source": [
    "x = d.pop('a')\n",
    "print(x)"
   ]
  },
  {
   "cell_type": "code",
   "execution_count": 100,
   "metadata": {},
   "outputs": [
    {
     "name": "stdout",
     "output_type": "stream",
     "text": [
      "[3, 6, 7]\n",
      "{'k1': [0, 4, 1]}\n"
     ]
    }
   ],
   "source": [
    "y = d.pop('k2')\n",
    "print(y)\n",
    "print(d)"
   ]
  },
  {
   "attachments": {},
   "cell_type": "markdown",
   "metadata": {},
   "source": [
    "Если методу pop передать второй параметр, то если элемент в словаре отсутствует, то метод pop возвратит значение этого параметра. \n",
    "Это позволяет проще всего организовать безопасное удаление элемента из словаря: **d.pop(key, None)**."
   ]
  },
  {
   "cell_type": "code",
   "execution_count": 102,
   "metadata": {},
   "outputs": [
    {
     "name": "stdout",
     "output_type": "stream",
     "text": [
      "None\n",
      "{'k1': [0, 4, 1]}\n"
     ]
    }
   ],
   "source": [
    "y = d.pop('key2',None)\n",
    "print(y)\n",
    "print(d)"
   ]
  },
  {
   "cell_type": "code",
   "execution_count": 11,
   "metadata": {},
   "outputs": [
    {
     "name": "stdout",
     "output_type": "stream",
     "text": [
      "0\n"
     ]
    }
   ],
   "source": [
    "z = d.pop('key3',0)\n",
    "print(z)"
   ]
  },
  {
   "attachments": {},
   "cell_type": "markdown",
   "metadata": {},
   "source": [
    "#### Методы словарей"
   ]
  },
  {
   "attachments": {},
   "cell_type": "markdown",
   "metadata": {},
   "source": [
    "**d.copy()** - возвращает копию словаря"
   ]
  },
  {
   "cell_type": "code",
   "execution_count": 12,
   "metadata": {},
   "outputs": [
    {
     "name": "stdout",
     "output_type": "stream",
     "text": [
      "{'a': 1, 'b': 2}\n"
     ]
    }
   ],
   "source": [
    "d1 = {'a':1, 'b':2}\n",
    "d2 = d1.copy()\n",
    "print(d2)"
   ]
  },
  {
   "cell_type": "code",
   "execution_count": 13,
   "metadata": {},
   "outputs": [
    {
     "name": "stdout",
     "output_type": "stream",
     "text": [
      "{'a': 1, 'b': 2}\n",
      "{'a': 100, 'b': 2}\n"
     ]
    }
   ],
   "source": [
    "d2['a'] = 100\n",
    "print(d1)\n",
    "print(d2)"
   ]
  },
  {
   "attachments": {},
   "cell_type": "markdown",
   "metadata": {},
   "source": [
    "**d.items()** - возвращает пары (ключ, значение)."
   ]
  },
  {
   "cell_type": "code",
   "execution_count": 15,
   "metadata": {},
   "outputs": [
    {
     "name": "stdout",
     "output_type": "stream",
     "text": [
      "{'a': 97, 'b': 98, 'c': 99, 'd': 100, 'e': 101, 'f': 102, 'g': 103}\n",
      "dict_items([('a', 97), ('b', 98), ('c', 99), ('d', 100), ('e', 101), ('f', 102), ('g', 103)])\n",
      "[('a', 97), ('b', 98), ('c', 99), ('d', 100), ('e', 101), ('f', 102), ('g', 103)]\n"
     ]
    }
   ],
   "source": [
    "d = {x: ord(x) for x in 'abcdefg'} \n",
    "print(d)\n",
    "a = d.items()\n",
    "print(a)\n",
    "print(list(a))"
   ]
  },
  {
   "attachments": {},
   "cell_type": "markdown",
   "metadata": {},
   "source": [
    "**d.keys()** - возвращает ключи в словаре"
   ]
  },
  {
   "cell_type": "code",
   "execution_count": 16,
   "metadata": {},
   "outputs": [
    {
     "name": "stdout",
     "output_type": "stream",
     "text": [
      "dict_keys(['a', 'b', 'c', 'd', 'e', 'f', 'g'])\n",
      "a b c d e f g\n"
     ]
    }
   ],
   "source": [
    "print(d.keys())\n",
    "print(*d.keys())"
   ]
  },
  {
   "attachments": {},
   "cell_type": "markdown",
   "metadata": {},
   "source": [
    "**d.popitem()** - удаляет и возвращает пару (ключ, значение). Если словарь пуст, бросает исключение **KeyError**. Помните, что словари неупорядочены."
   ]
  },
  {
   "cell_type": "code",
   "execution_count": 33,
   "metadata": {},
   "outputs": [
    {
     "name": "stdout",
     "output_type": "stream",
     "text": [
      "('g', 103)\n",
      "{'a': 97, 'b': 98, 'c': 99, 'd': 100, 'e': 101, 'f': 102}\n"
     ]
    }
   ],
   "source": [
    "x = d.popitem()\n",
    "print(x)\n",
    "print(d)"
   ]
  },
  {
   "attachments": {},
   "cell_type": "markdown",
   "metadata": {},
   "source": [
    "**d.setdefault(key[, default])** - возвращает значение ключа, но если его нет, не бросает исключение, а создает ключ с значением default (по умолчанию None)."
   ]
  },
  {
   "cell_type": "code",
   "execution_count": 105,
   "metadata": {},
   "outputs": [
    {
     "name": "stdout",
     "output_type": "stream",
     "text": [
      "97\n"
     ]
    }
   ],
   "source": [
    "x = d.setdefault('a')\n",
    "print(x)"
   ]
  },
  {
   "cell_type": "code",
   "execution_count": 17,
   "metadata": {},
   "outputs": [
    {
     "name": "stdout",
     "output_type": "stream",
     "text": [
      "None\n",
      "{'a': 97, 'b': 98, 'c': 99, 'd': 100, 'e': 101, 'f': 102, 'g': 103, 'z': None}\n"
     ]
    }
   ],
   "source": [
    "x = d.setdefault('z')\n",
    "print(x)\n",
    "print(d)"
   ]
  },
  {
   "cell_type": "code",
   "execution_count": 18,
   "metadata": {},
   "outputs": [
    {
     "name": "stdout",
     "output_type": "stream",
     "text": [
      "128\n",
      "{'a': 97, 'b': 98, 'c': 99, 'd': 100, 'e': 101, 'f': 102, 'g': 103, 'z': None, 'y': 128}\n"
     ]
    }
   ],
   "source": [
    "x = d.setdefault('y', 128)\n",
    "print(x)\n",
    "print(d)"
   ]
  },
  {
   "cell_type": "code",
   "execution_count": 37,
   "metadata": {},
   "outputs": [
    {
     "name": "stdout",
     "output_type": "stream",
     "text": [
      "{'a': 97, 'b': 98, 'c': 99, 'd': 100, 'e': 101, 'f': 102, 'z': None, 'y': 128}\n"
     ]
    }
   ],
   "source": [
    "print(d)"
   ]
  },
  {
   "attachments": {},
   "cell_type": "markdown",
   "metadata": {},
   "source": [
    "**d.update([other])** - обновляет словарь, добавляя пары (ключ, значение) из other. Существующие ключи перезаписываются. Возвращает None (не новый словарь!)."
   ]
  },
  {
   "cell_type": "code",
   "execution_count": 19,
   "metadata": {},
   "outputs": [
    {
     "name": "stdout",
     "output_type": "stream",
     "text": [
      "{1: [2, 3, 4, 10], 2: [4, 2, 8, 6], 0: [11, 13, 15], 7: 89, 4: [1, 2, 3]}\n"
     ]
    }
   ],
   "source": [
    "d = {1:[1,3,5,7], 2:[4,2,8,6], 0:[11, 13, 15]}\n",
    "d1 = {1:[2,3,4,10], 7:89, 4:[1,2,3]}\n",
    "d.update(d1)\n",
    "print(d)"
   ]
  },
  {
   "cell_type": "code",
   "execution_count": 20,
   "metadata": {},
   "outputs": [
    {
     "name": "stdout",
     "output_type": "stream",
     "text": [
      "None\n"
     ]
    }
   ],
   "source": [
    "print(d.update(d1))"
   ]
  },
  {
   "attachments": {},
   "cell_type": "markdown",
   "metadata": {},
   "source": [
    "**d.values()** - возвращает значения в словаре"
   ]
  },
  {
   "cell_type": "code",
   "execution_count": 41,
   "metadata": {},
   "outputs": [
    {
     "name": "stdout",
     "output_type": "stream",
     "text": [
      "dict_values([[2, 3, 4, 10], [4, 2, 8, 6], [11, 13, 15], 89, [1, 2, 3]])\n",
      "[[2, 3, 4, 10], [4, 2, 8, 6], [11, 13, 15], 89, [1, 2, 3]]\n"
     ]
    }
   ],
   "source": [
    "a = d.values()\n",
    "print(a)\n",
    "print(list(a))"
   ]
  },
  {
   "attachments": {},
   "cell_type": "markdown",
   "metadata": {},
   "source": [
    "**d.clear()** - очищает словарь"
   ]
  },
  {
   "cell_type": "code",
   "execution_count": 42,
   "metadata": {},
   "outputs": [
    {
     "name": "stdout",
     "output_type": "stream",
     "text": [
      "{}\n"
     ]
    }
   ],
   "source": [
    "d.clear()\n",
    "print(d)"
   ]
  },
  {
   "attachments": {},
   "cell_type": "markdown",
   "metadata": {},
   "source": [
    "## Пример"
   ]
  },
  {
   "attachments": {},
   "cell_type": "markdown",
   "metadata": {},
   "source": [
    "Заведем словарь сapitals, где индексом является название страны, а значением — название столицы этой страны. Это позволит легко определять по строке с названием страны ее столицу."
   ]
  },
  {
   "cell_type": "code",
   "execution_count": null,
   "metadata": {},
   "outputs": [],
   "source": [
    "capitals = {}\n",
    "capitals['Russia'] = 'Moscow'\n",
    "capitals['USA'] = 'Washington'\n",
    "capitals['Spain'] = 'Madrid'\n",
    "capitals['Italy'] = 'Rome'\n",
    "print(capitals)"
   ]
  },
  {
   "cell_type": "code",
   "execution_count": null,
   "metadata": {},
   "outputs": [],
   "source": [
    "country = input('В какой стране вы живете? ')\n",
    "if country in capitals:\n",
    "    print('Ваша столица -', capitals[country] )\n",
    "else:\n",
    "    print('Ваша страна не найдена.')\n",
    "    city = input('Введите столицу вашей страны :')\n",
    "    capitals[country] = city"
   ]
  },
  {
   "cell_type": "code",
   "execution_count": 21,
   "metadata": {},
   "outputs": [
    {
     "name": "stdout",
     "output_type": "stream",
     "text": [
      "{1.76: 'hello'}\n"
     ]
    }
   ],
   "source": [
    "d = {1.76:'hello'}\n",
    "print(d)"
   ]
  },
  {
   "cell_type": "code",
   "execution_count": 23,
   "metadata": {},
   "outputs": [
    {
     "name": "stdout",
     "output_type": "stream",
     "text": [
      "{0.3333333333333333: 'hello'}\n"
     ]
    }
   ],
   "source": [
    "k = 1/3\n",
    "d = {k:'hello'}\n",
    "print(d)"
   ]
  },
  {
   "cell_type": "code",
   "execution_count": 24,
   "metadata": {},
   "outputs": [
    {
     "name": "stdout",
     "output_type": "stream",
     "text": [
      "hello\n"
     ]
    }
   ],
   "source": [
    "print(d[0.3333333333333333])"
   ]
  },
  {
   "attachments": {},
   "cell_type": "markdown",
   "metadata": {},
   "source": [
    "Еще одним примером словаря является телефонный справочник. \n",
    "В нем ключом является имя, а значением — номер телефона. И словарь, и телефонный справочник хранятся так, что легко найти элемент словаря по известному ключу (например, если записи хранятся в алфавитном порядке ключей, то легко можно найти известный ключ, например, бинарным поиском), но если ключ неизвествен, а известно лишь значение, то поиск элемента с данным значением может потребовать последовательного просмотра всех элементов словаря."
   ]
  },
  {
   "attachments": {},
   "cell_type": "markdown",
   "metadata": {},
   "source": [
    "Особенностью ассоциативного массива является его динамичность: в него можно добавлять новые элементы с произвольными ключами и удалять уже существующие элементы. \n",
    "При этом размер используемой памяти пропорционален размеру ассоциативного массива. \n"
   ]
  },
  {
   "attachments": {},
   "cell_type": "markdown",
   "metadata": {},
   "source": [
    "Доступ к элементам ассоциативного массива выполняется хоть и медленнее, чем к обычным массивам, но в целом довольно быстро."
   ]
  },
  {
   "attachments": {},
   "cell_type": "markdown",
   "metadata": {},
   "source": [
    "В языке Python ключом может быть произвольный неизменяемый тип данных: целые и действительные числа, строки, кортежи. "
   ]
  },
  {
   "attachments": {},
   "cell_type": "markdown",
   "metadata": {},
   "source": [
    "Ключом в словаре не может быть множество, но может быть элемент типа frozenset: специальный тип данных, являющийся аналогом типа set, который нельзя изменять после создания. "
   ]
  },
  {
   "attachments": {},
   "cell_type": "markdown",
   "metadata": {},
   "source": [
    "Значением элемента словаря может быть любой тип данных, в том числе и изменяемый."
   ]
  },
  {
   "attachments": {},
   "cell_type": "markdown",
   "metadata": {},
   "source": [
    "**Словари нужно использовать в следующих случаях:**"
   ]
  },
  {
   "attachments": {},
   "cell_type": "markdown",
   "metadata": {},
   "source": [
    "- подсчет числа каких-то объектов. В этом случае нужно завести словарь, в котором ключами являются объекты, а значениями — их количество."
   ]
  },
  {
   "attachments": {},
   "cell_type": "markdown",
   "metadata": {},
   "source": [
    "- хранение каких-либо данных, связанных с объектом. Ключи — объекты, значения – связанные с ними данные. Например, если нужно по названию месяца определить его порядковый номер, то это можно сделать при помощи словаря Num['January'] = 1; Num['February'] = 2; ...."
   ]
  },
  {
   "attachments": {},
   "cell_type": "markdown",
   "metadata": {},
   "source": [
    "- установка соответствия между объектами (например, \"родитель—потомок\"). Ключ – объект, значение — соответствующий ему объект."
   ]
  },
  {
   "attachments": {},
   "cell_type": "markdown",
   "metadata": {},
   "source": [
    "- если нужен обычный список, но при этом масимальное значение индекса элемента очень велико, но при этом будут использоваться не все возможные индексы (так называемый \"разреженный список\"), то можно использовать ассоциативный массив для экономии памяти."
   ]
  },
  {
   "attachments": {},
   "cell_type": "markdown",
   "metadata": {},
   "source": [
    "#### Пример"
   ]
  },
  {
   "attachments": {},
   "cell_type": "markdown",
   "metadata": {},
   "source": [
    "Подсчитаем, сколько раз в строке встречается каждый символ:"
   ]
  },
  {
   "cell_type": "code",
   "execution_count": 28,
   "metadata": {},
   "outputs": [
    {
     "name": "stdout",
     "output_type": "stream",
     "text": [
      "bhjgcvhjdsvfb jfdhjjdkdx fh\\djc hfjkd fhfjdnx\n",
      "{'b': 2, 'h': 6, 'j': 8, 'g': 1, 'c': 2, 'v': 2, 'd': 7, 's': 1, 'f': 6, ' ': 4, 'k': 2, 'x': 2, '\\\\': 1, 'n': 1}\n"
     ]
    }
   ],
   "source": [
    "d = {}\n",
    "s = 'bhjgcvhjdsvfb jfdhjjdkdx fh\\\\djc hfjkd fhfjdnx'\n",
    "print(s)\n",
    "for x in s:\n",
    "    if x in d:\n",
    "        d[x] += 1\n",
    "    else:\n",
    "        d[x] = 1\n",
    "print(d)"
   ]
  },
  {
   "cell_type": "code",
   "execution_count": 29,
   "metadata": {},
   "outputs": [
    {
     "name": "stdout",
     "output_type": "stream",
     "text": [
      "{'b': 2, 'h': 6, 'j': 8, 'g': 1, 'c': 2, 'v': 2, 'd': 7, 's': 1, 'f': 6, ' ': 4, 'k': 2, 'x': 2, '\\\\': 1, 'n': 1}\n"
     ]
    }
   ],
   "source": [
    "d = {}\n",
    "s = 'bhjgcvhjdsvfb jfdhjjdkdx fh\\\\djc hfjkd fhfjdnx'\n",
    "for x in s:\n",
    "    d[x] = d.get(x,0) + 1\n",
    "print(d)"
   ]
  },
  {
   "attachments": {},
   "cell_type": "markdown",
   "metadata": {},
   "source": [
    "Если нам нужно инвертировать данный словарь и в качестве ключа поставить частоту:"
   ]
  },
  {
   "cell_type": "code",
   "execution_count": 31,
   "metadata": {},
   "outputs": [
    {
     "name": "stdout",
     "output_type": "stream",
     "text": [
      "{2: ['b', 'c', 'v', 'k', 'x'], 6: ['h', 'f'], 8: ['j'], 1: ['g', 's', '\\\\', 'n'], 7: ['d'], 4: [' ']}\n"
     ]
    }
   ],
   "source": [
    "dd = {}\n",
    "for key in d:\n",
    "    val = d[key]\n",
    "    if val not in dd:\n",
    "        dd[val] = [key]\n",
    "    else:\n",
    "        dd[val].append(key)\n",
    "print(dd)"
   ]
  },
  {
   "cell_type": "code",
   "execution_count": 53,
   "metadata": {},
   "outputs": [
    {
     "name": "stdout",
     "output_type": "stream",
     "text": [
      "{2: ['b', 'c', 'v', 'k', 'x'], 6: ['h', 'f'], 8: ['j'], 1: ['g', 's', '\\\\', 'n'], 7: ['d'], 4: [' ']}\n"
     ]
    }
   ],
   "source": [
    "dd = {}\n",
    "for key in d:\n",
    "    val = d[key]\n",
    "    dd[val] = dd.get(val,[]) + [key]\n",
    "print(dd)"
   ]
  },
  {
   "attachments": {},
   "cell_type": "markdown",
   "metadata": {},
   "source": [
    "#### Пример"
   ]
  },
  {
   "attachments": {},
   "cell_type": "markdown",
   "metadata": {},
   "source": [
    "Дан список случайных чисел. Создать словарь, ключами которого будут остатки от деления на 5, а значениями - числа, дающие этот остаток."
   ]
  },
  {
   "cell_type": "code",
   "execution_count": 32,
   "metadata": {},
   "outputs": [
    {
     "name": "stdout",
     "output_type": "stream",
     "text": [
      "[80, 95, 6, 36, 82, 15, 98, 57, 28, 54, 53, 88, 88, 12, 82, 84, 95, 13, 29, 60]\n",
      "{0: [80, 95, 15, 95, 60], 1: [6, 36], 2: [82, 57, 12, 82], 3: [98, 28, 53, 88, 88, 13], 4: [54, 84, 29]}\n"
     ]
    }
   ],
   "source": [
    "from random import randint\n",
    "\n",
    "a = [randint(1, 100) for i  in range(20)]\n",
    "print(a)\n",
    "d = {}\n",
    "for x in a:\n",
    "    if x % 5 in d:\n",
    "        d[x%5].append(x)\n",
    "    else:\n",
    "        d[x%5] = [x]\n",
    "print(d)"
   ]
  },
  {
   "cell_type": "code",
   "execution_count": 46,
   "metadata": {},
   "outputs": [
    {
     "name": "stdout",
     "output_type": "stream",
     "text": [
      "[5, 41, 55, 47, 10, 43, 99, 66, 89, 58, 97, 42, 89, 61, 84, 58, 7, 67, 41, 36]\n",
      "{0: [5, 55, 10], 1: [41, 66, 61, 41, 36], 2: [47, 97, 42, 7, 67], 3: [43, 58, 58], 4: [99, 89, 89, 84]}\n"
     ]
    }
   ],
   "source": [
    "from random import randint\n",
    "\n",
    "a = [randint(1, 100) for i  in range(20)]\n",
    "print(a)\n",
    "d = {}\n",
    "for x in a:\n",
    "    d[x%5] = d.get(x%5,[]) + [x]\n",
    "print(d)"
   ]
  },
  {
   "attachments": {},
   "cell_type": "markdown",
   "metadata": {},
   "source": [
    "Сортировка словаря по ключу"
   ]
  },
  {
   "cell_type": "code",
   "execution_count": 54,
   "metadata": {},
   "outputs": [],
   "source": [
    "d = {'pascal': 2, 'python': 10, 'java':20, 'c#':12, 'c++': 5}"
   ]
  },
  {
   "cell_type": "code",
   "execution_count": 61,
   "metadata": {},
   "outputs": [
    {
     "name": "stdout",
     "output_type": "stream",
     "text": [
      "c# 12\n",
      "c++ 5\n",
      "java 20\n",
      "pascal 2\n",
      "python 10\n"
     ]
    }
   ],
   "source": [
    "langs = list(d.keys())\n",
    "langs.sort()\n",
    "for lang in langs:\n",
    "    print(lang, d[lang])"
   ]
  },
  {
   "cell_type": "code",
   "execution_count": 63,
   "metadata": {},
   "outputs": [
    {
     "name": "stdout",
     "output_type": "stream",
     "text": [
      "c# 12\n",
      "c++ 5\n",
      "java 20\n",
      "pascal 2\n",
      "python 10\n"
     ]
    }
   ],
   "source": [
    "for key in sorted(d):\n",
    "    print(key, d[key])\n"
   ]
  }
 ],
 "metadata": {
  "kernelspec": {
   "display_name": "Python 3",
   "language": "python",
   "name": "python3"
  },
  "language_info": {
   "codemirror_mode": {
    "name": "ipython",
    "version": 3
   },
   "file_extension": ".py",
   "mimetype": "text/x-python",
   "name": "python",
   "nbconvert_exporter": "python",
   "pygments_lexer": "ipython3",
   "version": "3.12.3"
  },
  "orig_nbformat": 4
 },
 "nbformat": 4,
 "nbformat_minor": 2
}
