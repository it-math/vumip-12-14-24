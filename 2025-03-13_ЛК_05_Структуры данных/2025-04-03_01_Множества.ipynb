{
 "cells": [
  {
   "cell_type": "code",
   "execution_count": 1,
   "metadata": {},
   "outputs": [
    {
     "name": "stdout",
     "output_type": "stream",
     "text": [
      "<class 'dict'>\n"
     ]
    }
   ],
   "source": [
    "ss = {} # это не множество\n",
    "print(type(ss))"
   ]
  },
  {
   "cell_type": "code",
   "execution_count": 3,
   "metadata": {},
   "outputs": [],
   "source": [
    "s = set()"
   ]
  },
  {
   "cell_type": "code",
   "execution_count": 63,
   "metadata": {},
   "outputs": [
    {
     "name": "stdout",
     "output_type": "stream",
     "text": [
      "<class 'set'>\n"
     ]
    }
   ],
   "source": [
    "s = {1}\n",
    "print(type(s))"
   ]
  },
  {
   "cell_type": "code",
   "execution_count": 2,
   "metadata": {},
   "outputs": [
    {
     "name": "stdout",
     "output_type": "stream",
     "text": [
      "{0, 5, 'hello', 7, 'g'}\n"
     ]
    }
   ],
   "source": [
    "s1 = {5, 0, 'hello', 'g', 7}\n",
    "print(s1)\n"
   ]
  },
  {
   "cell_type": "code",
   "execution_count": null,
   "metadata": {},
   "outputs": [
    {
     "name": "stdout",
     "output_type": "stream",
     "text": [
      "[0, 5, 7, 'hello', 'g']\n"
     ]
    }
   ],
   "source": [
    "a1 = list(s1)\n",
    "print(a1)"
   ]
  },
  {
   "cell_type": "code",
   "execution_count": 66,
   "metadata": {},
   "outputs": [
    {
     "name": "stdout",
     "output_type": "stream",
     "text": [
      "{0, 5, 7, -100000000000000000000000000, 1000000000000000}\n",
      "0\n",
      "5\n",
      "7\n",
      "-100000000000000000000000000\n",
      "1000000000000000\n"
     ]
    }
   ],
   "source": [
    "s1 = {5, 0, 1000000000000000, -100000000000000000000000000, 7}\n",
    "print(s1)\n",
    "for x in s1:\n",
    "    print(x)"
   ]
  },
  {
   "cell_type": "code",
   "execution_count": 67,
   "metadata": {},
   "outputs": [
    {
     "name": "stdout",
     "output_type": "stream",
     "text": [
      "100 20\n",
      "108 28\n"
     ]
    }
   ],
   "source": [
    "import sys\n",
    "s = set()\n",
    "a = []\n",
    "print(s.__sizeof__(), a.__sizeof__())\n",
    "print(sys.getsizeof(s), sys.getsizeof(a))"
   ]
  },
  {
   "cell_type": "code",
   "execution_count": 68,
   "metadata": {},
   "outputs": [
    {
     "name": "stdout",
     "output_type": "stream",
     "text": [
      "356 48\n",
      "364 56\n"
     ]
    }
   ],
   "source": [
    "import sys\n",
    "s = {10,30,20,25,35,45,55}\n",
    "a = [10,30,20,25,35,45,55]\n",
    "print(s.__sizeof__(), a.__sizeof__())\n",
    "print(sys.getsizeof(s), sys.getsizeof(a))"
   ]
  },
  {
   "cell_type": "code",
   "execution_count": 69,
   "metadata": {},
   "outputs": [
    {
     "name": "stdout",
     "output_type": "stream",
     "text": [
      "{1, 2, 3, 5}\n",
      "{1, 2, 3, 5, -1000000000000000000000}\n",
      "{1, 2, 3, 4, 5, -1000000000000000000000}\n",
      "{1, 2, 3, 4, 5, -4, -1000000000000000000000}\n"
     ]
    }
   ],
   "source": [
    "s = {1, 2, 3}\n",
    "s.add(5)\n",
    "print(s)\n",
    "s.add(-1000000000000000000000)\n",
    "print(s)\n",
    "s.add(4)\n",
    "print(s)\n",
    "s.add(-4)\n",
    "print(s)"
   ]
  },
  {
   "cell_type": "code",
   "execution_count": 5,
   "metadata": {},
   "outputs": [
    {
     "name": "stdout",
     "output_type": "stream",
     "text": [
      "{1, 2, 3, 4, 5, 6, 7, -1000000000000000000000, -4}\n",
      "{0, 1, 2, 3, 4, 5, 6, 7, -1000000000000000000000, -4}\n"
     ]
    }
   ],
   "source": [
    "s = {1, 2, 3, 4, 5, -4, -1000000000000000000000}\n",
    "s.update({3, 5, 6, 7})\n",
    "print(s)\n",
    "s.update({0})\n",
    "print(s)"
   ]
  },
  {
   "cell_type": "code",
   "execution_count": 6,
   "metadata": {},
   "outputs": [
    {
     "name": "stdout",
     "output_type": "stream",
     "text": [
      "{0, 1, 2, 3, 4, 5, 6, 7, 34, 67, 13, -1000000000000000000000, 15, -4}\n"
     ]
    }
   ],
   "source": [
    "s = {0, 1, 2, 3, 4, 5, 6, 7, -1000000000000000000000, -4}\n",
    "s.update({13, 15}, {34, 67})\n",
    "print(s)"
   ]
  },
  {
   "cell_type": "code",
   "execution_count": 12,
   "metadata": {},
   "outputs": [
    {
     "name": "stdout",
     "output_type": "stream",
     "text": [
      "['h', 'e', 'l', 'l', 'o']\n",
      "{'o', 'e', 'l', 'h'}\n"
     ]
    }
   ],
   "source": [
    "ss = 'hello'\n",
    "s = set(ss)\n",
    "a = list(ss)\n",
    "print(a)\n",
    "print(s)"
   ]
  },
  {
   "cell_type": "code",
   "execution_count": 25,
   "metadata": {},
   "outputs": [
    {
     "name": "stdout",
     "output_type": "stream",
     "text": [
      "{'e', 'o', 'l', 56, 'h'}\n",
      "{'e', 'o', 'hello', 'l', 56, 'h'}\n"
     ]
    }
   ],
   "source": [
    "s.update('hello')\n",
    "print(s)\n",
    "s.add('hello')\n",
    "print(s)"
   ]
  },
  {
   "cell_type": "code",
   "execution_count": 26,
   "metadata": {},
   "outputs": [
    {
     "name": "stdout",
     "output_type": "stream",
     "text": [
      "{'e', 'o', 'hello', 'l', 56, 'h'}\n"
     ]
    }
   ],
   "source": [
    "s.update({'hello'})\n",
    "print(s)"
   ]
  },
  {
   "cell_type": "code",
   "execution_count": 15,
   "metadata": {},
   "outputs": [
    {
     "name": "stdout",
     "output_type": "stream",
     "text": [
      "{'e', 'hello', 'l', 'h'}\n"
     ]
    }
   ],
   "source": [
    "s.discard('o')\n",
    "print(s)"
   ]
  },
  {
   "cell_type": "code",
   "execution_count": 16,
   "metadata": {},
   "outputs": [
    {
     "name": "stdout",
     "output_type": "stream",
     "text": [
      "{'e', 'hello', 'l', 'h'}\n"
     ]
    }
   ],
   "source": [
    "s.discard(34)\n",
    "print(s)"
   ]
  },
  {
   "cell_type": "code",
   "execution_count": 17,
   "metadata": {},
   "outputs": [
    {
     "name": "stdout",
     "output_type": "stream",
     "text": [
      "{'hello', 'l', 'h'}\n"
     ]
    }
   ],
   "source": [
    "s.remove('e')\n",
    "print(s)"
   ]
  },
  {
   "cell_type": "code",
   "execution_count": 18,
   "metadata": {},
   "outputs": [
    {
     "ename": "KeyError",
     "evalue": "67",
     "output_type": "error",
     "traceback": [
      "\u001b[1;31m---------------------------------------------------------------------------\u001b[0m",
      "\u001b[1;31mKeyError\u001b[0m                                  Traceback (most recent call last)",
      "Cell \u001b[1;32mIn[18], line 1\u001b[0m\n\u001b[1;32m----> 1\u001b[0m \u001b[43ms\u001b[49m\u001b[38;5;241;43m.\u001b[39;49m\u001b[43mremove\u001b[49m\u001b[43m(\u001b[49m\u001b[38;5;241;43m67\u001b[39;49m\u001b[43m)\u001b[49m\n\u001b[0;32m      2\u001b[0m \u001b[38;5;28mprint\u001b[39m(s)\n",
      "\u001b[1;31mKeyError\u001b[0m: 67"
     ]
    }
   ],
   "source": [
    "s.remove(67)\n",
    "print(s)"
   ]
  },
  {
   "cell_type": "code",
   "execution_count": 24,
   "metadata": {},
   "outputs": [
    {
     "name": "stdout",
     "output_type": "stream",
     "text": [
      "{56}\n"
     ]
    }
   ],
   "source": [
    "if 67 in s:\n",
    "    s.remove(67)\n",
    "else:\n",
    "    s.add(56)\n",
    "print(s)"
   ]
  },
  {
   "cell_type": "code",
   "execution_count": 28,
   "metadata": {},
   "outputs": [
    {
     "name": "stdout",
     "output_type": "stream",
     "text": [
      "o\n",
      "{'hello', 'l', 56, 'h'}\n"
     ]
    }
   ],
   "source": [
    "k = s.pop()\n",
    "print(k)\n",
    "print(s)"
   ]
  },
  {
   "cell_type": "code",
   "execution_count": 79,
   "metadata": {},
   "outputs": [
    {
     "name": "stdout",
     "output_type": "stream",
     "text": [
      "ok\n"
     ]
    }
   ],
   "source": [
    "s = {1,2,3}\n",
    "if 1 in s:\n",
    "    print('ok')"
   ]
  },
  {
   "cell_type": "code",
   "execution_count": 29,
   "metadata": {},
   "outputs": [],
   "source": [
    "s = {3,2, 0, -100, 20, 50}"
   ]
  },
  {
   "cell_type": "markdown",
   "metadata": {},
   "source": [
    "С множествами можно выполнять следующие операции:"
   ]
  },
  {
   "cell_type": "markdown",
   "metadata": {},
   "source": [
    "- число элементов во множестве"
   ]
  },
  {
   "cell_type": "code",
   "execution_count": 30,
   "metadata": {},
   "outputs": [
    {
     "name": "stdout",
     "output_type": "stream",
     "text": [
      "6\n"
     ]
    }
   ],
   "source": [
    "print(len(s))"
   ]
  },
  {
   "cell_type": "markdown",
   "metadata": {},
   "source": [
    "- принадлежность элемента множеству"
   ]
  },
  {
   "cell_type": "code",
   "execution_count": 31,
   "metadata": {},
   "outputs": [
    {
     "name": "stdout",
     "output_type": "stream",
     "text": [
      "True\n"
     ]
    }
   ],
   "source": [
    "print(2 in s)"
   ]
  },
  {
   "cell_type": "markdown",
   "metadata": {},
   "source": [
    "- имеют ли множества общие элементы"
   ]
  },
  {
   "cell_type": "code",
   "execution_count": 36,
   "metadata": {},
   "outputs": [
    {
     "name": "stdout",
     "output_type": "stream",
     "text": [
      "True\n",
      "False\n"
     ]
    }
   ],
   "source": [
    "s1 = {2, 4, -10, 5}\n",
    "s2 = {1, 3, 6, -20}\n",
    "s3 = {2, 5, 10, 12}\n",
    "s4 = {1, 2, 3, 4, 5, -10, -20}\n",
    "print(s1.isdisjoint(s2))\n",
    "print(s1.isdisjoint(s3))"
   ]
  },
  {
   "cell_type": "markdown",
   "metadata": {},
   "source": [
    "- равенство множеств (все элементы одного множества принадлежат второму и наоборот)"
   ]
  },
  {
   "cell_type": "code",
   "execution_count": 34,
   "metadata": {},
   "outputs": [
    {
     "name": "stdout",
     "output_type": "stream",
     "text": [
      "False\n"
     ]
    }
   ],
   "source": [
    "print(s1 == s2)"
   ]
  },
  {
   "cell_type": "markdown",
   "metadata": {},
   "source": [
    "- все элементы множества s1 принадлежат множеству s2 (s1 содержится в s2)"
   ]
  },
  {
   "cell_type": "code",
   "execution_count": 37,
   "metadata": {},
   "outputs": [
    {
     "name": "stdout",
     "output_type": "stream",
     "text": [
      "False\n",
      "True\n"
     ]
    }
   ],
   "source": [
    "print(s1.issubset(s2))\n",
    "print(s1.issubset(s4))"
   ]
  },
  {
   "cell_type": "markdown",
   "metadata": {},
   "source": [
    "- все элементы множества s1 принадлежат множеству s2 (s1 содержится в s2)"
   ]
  },
  {
   "cell_type": "code",
   "execution_count": 38,
   "metadata": {},
   "outputs": [
    {
     "name": "stdout",
     "output_type": "stream",
     "text": [
      "False\n",
      "True\n"
     ]
    }
   ],
   "source": [
    "print(s2.issuperset(s1))\n",
    "print(s4.issuperset(s1))"
   ]
  },
  {
   "cell_type": "markdown",
   "metadata": {},
   "source": [
    "- объединение множеств"
   ]
  },
  {
   "cell_type": "code",
   "execution_count": 40,
   "metadata": {},
   "outputs": [
    {
     "name": "stdout",
     "output_type": "stream",
     "text": [
      "{1, 2, 3, 4, 5, 6, -20, -10}\n",
      "{1, 2, 3, 4, 5, 6, -20, -10}\n"
     ]
    }
   ],
   "source": [
    "ss = s1.union(s2)\n",
    "print(ss)\n",
    "ss = s1 | s2\n",
    "print(ss)"
   ]
  },
  {
   "cell_type": "markdown",
   "metadata": {},
   "source": [
    "- пересечение множеств"
   ]
  },
  {
   "cell_type": "code",
   "execution_count": 44,
   "metadata": {},
   "outputs": [
    {
     "name": "stdout",
     "output_type": "stream",
     "text": [
      "set()\n",
      "set()\n",
      "{2, 5}\n",
      "{2, 5}\n"
     ]
    }
   ],
   "source": [
    "ss = s1.intersection(s2)\n",
    "print(ss)\n",
    "ss = s1 & s2\n",
    "print(ss)\n",
    "ss = s1.intersection(s3)\n",
    "print(ss)\n",
    "ss = s1 & s3\n",
    "print(ss)"
   ]
  },
  {
   "cell_type": "markdown",
   "metadata": {},
   "source": [
    "- разность множеств"
   ]
  },
  {
   "cell_type": "code",
   "execution_count": 50,
   "metadata": {},
   "outputs": [
    {
     "name": "stdout",
     "output_type": "stream",
     "text": [
      "{2, 4, 5, -10}\n",
      "{2, 4, 5, -10}\n",
      "{1, 3, -20, 6}\n",
      "{1, 3, -20, 6}\n",
      "{4, -10}\n",
      "{10, 12}\n",
      "{1, 3, -20}\n",
      "set()\n"
     ]
    }
   ],
   "source": [
    "ss = s1.difference(s2)\n",
    "print(ss)\n",
    "ss = s1 - s2\n",
    "print(ss)\n",
    "ss = s2.difference(s1)\n",
    "print(ss)\n",
    "ss = s2 - s1\n",
    "print(ss)\n",
    "ss = s1 - s3\n",
    "print(ss)\n",
    "ss = s3 - s1\n",
    "print(ss)\n",
    "ss = s4 - s1\n",
    "print(ss)\n",
    "ss = s1 - s4\n",
    "print(ss)\n"
   ]
  },
  {
   "cell_type": "markdown",
   "metadata": {},
   "source": [
    "- симметрическая разность"
   ]
  },
  {
   "cell_type": "code",
   "execution_count": 51,
   "metadata": {},
   "outputs": [
    {
     "name": "stdout",
     "output_type": "stream",
     "text": [
      "{1, 2, 3, 4, 5, 6, -20, -10}\n",
      "{1, 2, 3, 4, 5, 6, -20, -10}\n"
     ]
    }
   ],
   "source": [
    "ss = s1.symmetric_difference(s2)\n",
    "print(ss)\n",
    "ss = s1 ^ s2\n",
    "print(ss)"
   ]
  },
  {
   "cell_type": "markdown",
   "metadata": {},
   "source": [
    "- копия множества"
   ]
  },
  {
   "cell_type": "code",
   "execution_count": 52,
   "metadata": {},
   "outputs": [
    {
     "name": "stdout",
     "output_type": "stream",
     "text": [
      "{2, 4, 5, -10}\n"
     ]
    }
   ],
   "source": [
    "ss = s1.copy()\n",
    "print(ss)"
   ]
  },
  {
   "attachments": {
    "image.png": {
     "image/png": "[encoded data removed]"
    }
   },
   "cell_type": "markdown",
   "metadata": {},
   "source": [
    "![image.png](attachment:image.png)"
   ]
  },
  {
   "attachments": {
    "image.png": {
     "image/png": "[encoded data removed]"
    }
   },
   "cell_type": "markdown",
   "metadata": {},
   "source": [
    "![image.png](attachment:image.png)"
   ]
  }
 ],
 "metadata": {
  "kernelspec": {
   "display_name": "Python 3",
   "language": "python",
   "name": "python3"
  },
  "language_info": {
   "codemirror_mode": {
    "name": "ipython",
    "version": 3
   },
   "file_extension": ".py",
   "mimetype": "text/x-python",
   "name": "python",
   "nbconvert_exporter": "python",
   "pygments_lexer": "ipython3",
   "version": "3.12.3"
  }
 },
 "nbformat": 4,
 "nbformat_minor": 2
}
