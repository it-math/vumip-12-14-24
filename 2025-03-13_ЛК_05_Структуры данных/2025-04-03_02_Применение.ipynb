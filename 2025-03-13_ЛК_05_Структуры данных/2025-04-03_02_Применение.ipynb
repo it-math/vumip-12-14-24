{
 "cells": [
  {
   "cell_type": "markdown",
   "metadata": {},
   "source": [
    "**Пример.** Дана строка (список). Определить есть ли в нем повторяющиеся элементы."
   ]
  },
  {
   "cell_type": "code",
   "execution_count": 9,
   "metadata": {},
   "outputs": [
    {
     "name": "stdout",
     "output_type": "stream",
     "text": [
      "5000 5000 True\n"
     ]
    }
   ],
   "source": [
    "f = open('01.txt')\n",
    "a = [int(x) for x in f]\n",
    "n = len(a)\n",
    "k = len(set(a))\n",
    "print(n, k, n == k)"
   ]
  },
  {
   "cell_type": "code",
   "execution_count": 11,
   "metadata": {},
   "outputs": [
    {
     "name": "stdout",
     "output_type": "stream",
     "text": [
      "5002 5000 False\n"
     ]
    }
   ],
   "source": [
    "f = open('01a.txt')\n",
    "a = [int(x) for x in f]\n",
    "n = len(a)\n",
    "k = len(set(a))\n",
    "print(n, k, n == k)"
   ]
  },
  {
   "cell_type": "markdown",
   "metadata": {},
   "source": [
    "**Пример.** Дан список (строка). Определить для каждого числа встречалось ли оно ранее в последовательности."
   ]
  },
  {
   "cell_type": "code",
   "execution_count": 35,
   "metadata": {},
   "outputs": [
    {
     "name": "stdout",
     "output_type": "stream",
     "text": [
      "[5, 4, 18, 19, 4, 14, 19, 14, 8, 15]\n",
      "set()\n",
      "5 -\n",
      "{5}\n",
      "4 -\n",
      "{4, 5}\n",
      "18 -\n",
      "{18, 4, 5}\n",
      "19 -\n",
      "{18, 19, 4, 5}\n",
      "4 +\n",
      "{18, 19, 4, 5}\n",
      "14 -\n",
      "{4, 5, 14, 18, 19}\n",
      "19 +\n",
      "{4, 5, 14, 18, 19}\n",
      "14 +\n",
      "{4, 5, 14, 18, 19}\n",
      "8 -\n",
      "{4, 5, 8, 14, 18, 19}\n",
      "15 -\n"
     ]
    }
   ],
   "source": [
    "import random\n",
    "\n",
    "n = 10\n",
    "a = [random.randint(1,20) for _ in range(n)]\n",
    "print(a)\n",
    "s = set()\n",
    "for x in a:\n",
    "    print(s)\n",
    "    if x in s:\n",
    "        print(x, '+')\n",
    "    else:\n",
    "        print(x, '-')\n",
    "        s.add(x)\n"
   ]
  },
  {
   "cell_type": "markdown",
   "metadata": {},
   "source": [
    "**Пример.** Заданы имена девочек. Определить, какие из этих имен встречаются во всех классах данной параллели, которые есть только в некоторых классах и какие из этих имен не встречаются ни в одном классе."
   ]
  },
  {
   "cell_type": "code",
   "execution_count": 36,
   "metadata": {},
   "outputs": [
    {
     "name": "stdout",
     "output_type": "stream",
     "text": [
      "{'Анна', 'Мария'}\n",
      "{'Екатерина', 'Ольга', 'Елена'}\n",
      "{'Татьяна'}\n",
      "{'Екатерина', 'Ольга'}\n"
     ]
    }
   ],
   "source": [
    "set1 = set([\"Анна\", \"Мария\", \"Екатерина\"])\n",
    "set2 = set([\"Анна\", \"Ольга\", \"Мария\"])\n",
    "set3 = set([\"Анна\", \"Елена\", \"Мария\"])\n",
    "common_names = set1 & set2 & set3\n",
    "print(common_names)\n",
    "all_names = set1 | set2 | set3\n",
    "partial_names = all_names - common_names\n",
    "print(partial_names)\n",
    "total_names = set([\"Анна\", \"Мария\", \"Екатерина\", \"Ольга\", \"Елена\", \"Татьяна\"])\n",
    "missing_names = total_names - all_names\n",
    "print(missing_names)\n",
    "s = set1 ^ set2\n",
    "print(s)"
   ]
  },
  {
   "cell_type": "code",
   "execution_count": null,
   "metadata": {},
   "outputs": [],
   "source": [
    "import random\n",
    "\n",
    "n = 10\n",
    "a = [random.randint(1,20) for _ in range(n)]\n",
    "print(a)\n",
    "s = set()\n"
   ]
  },
  {
   "cell_type": "markdown",
   "metadata": {},
   "source": [
    "**Пример.** В текстовом файле записан набор натуральных чисел. Гарантируется, что все числа различны. Необходимо определить, сколько в наборе таких пар чисел с чётной суммой, что их среднее арифметическое тоже присутствует в файле, и чему равно наибольшее из средних арифметических таких пар."
   ]
  },
  {
   "cell_type": "code",
   "execution_count": 1,
   "metadata": {},
   "outputs": [
    {
     "name": "stdout",
     "output_type": "stream",
     "text": [
      "331 98715310\n"
     ]
    }
   ],
   "source": [
    "f = open('01.txt')\n",
    "a = [int(x) for x in f]\n",
    "res = []\n",
    "for i in range(len(a)):\n",
    "    for j in range(i+1, len(a)):\n",
    "        if (a[i] + a[j]) % 2 == 0:\n",
    "            sr = (a[i] + a[j]) // 2\n",
    "            if sr in a:\n",
    "                #res.append(sr)\n",
    "                res += [sr]\n",
    "print(len(res), max(res))"
   ]
  },
  {
   "cell_type": "code",
   "execution_count": 2,
   "metadata": {},
   "outputs": [
    {
     "name": "stdout",
     "output_type": "stream",
     "text": [
      "331 98715310\n"
     ]
    }
   ],
   "source": [
    "f = open('01.txt')\n",
    "a = [int(x) for x in f]\n",
    "res = []\n",
    "b = set(a)\n",
    "for i in range(len(a)):\n",
    "    for j in range(i+1, len(a)):\n",
    "        if (a[i] + a[j]) % 2 == 0:\n",
    "            sr = (a[i] + a[j]) // 2\n",
    "            if sr in b:\n",
    "                #res.append(sr)\n",
    "                res += [sr]\n",
    "print(len(res), max(res))"
   ]
  },
  {
   "cell_type": "code",
   "execution_count": 27,
   "metadata": {},
   "outputs": [
    {
     "name": "stdout",
     "output_type": "stream",
     "text": [
      "5000 99987599\n"
     ]
    }
   ],
   "source": [
    "f = open('01.txt')\n",
    "a = [int(x) for x in f]\n",
    "res = []\n",
    "b = set(a)\n",
    "for i in range(len(a)):\n",
    "    for j in range(i+1, len(a)):\n",
    "        if (a[i] + a[j]) % 2 == 0:\n",
    "            sr = (a[i] + a[j]) // 2\n",
    "            b.add(sr)\n",
    "res = set(a) & b\n",
    "print(len(res), max(res))"
   ]
  },
  {
   "cell_type": "markdown",
   "metadata": {},
   "source": [
    "**Пример.** В текстовом файле записан набор натуральных чисел. Гарантируется, что все числа различны. Необходимо определить, сколько в наборе таких пар нечётных чисел, что их среднее арифметическое тоже присутствует в файле, и чему равно наибольшее из средних арифметических таких пар."
   ]
  },
  {
   "cell_type": "code",
   "execution_count": 3,
   "metadata": {},
   "outputs": [
    {
     "name": "stdout",
     "output_type": "stream",
     "text": [
      "38 884877115\n"
     ]
    }
   ],
   "source": [
    "f = open('02.txt')\n",
    "a = [int(x) for x in f]\n",
    "res = []\n",
    "for i in range(len(a)):\n",
    "    if a[i] % 2 != 0:\n",
    "        for j in range(i+1, len(a)):\n",
    "            if a[j] % 2 != 0:\n",
    "                sr = (a[i] + a[j]) // 2\n",
    "                if sr in a:\n",
    "                    #res.append(sr)\n",
    "                    res += [sr]\n",
    "print(len(res), max(res))"
   ]
  },
  {
   "cell_type": "code",
   "execution_count": 20,
   "metadata": {},
   "outputs": [
    {
     "name": "stdout",
     "output_type": "stream",
     "text": [
      "38 884877115\n"
     ]
    }
   ],
   "source": [
    "f = open('02.txt')\n",
    "a = [int(x) for x in f]\n",
    "b = []\n",
    "res = []\n",
    "for x in a:\n",
    "    if x % 2 != 0:\n",
    "        b += [x]\n",
    "for i in range(len(b)):\n",
    "    for j in range(i+1, len(b)):\n",
    "        sr = (b[i] + b[j]) // 2\n",
    "        if sr in a:\n",
    "            #res.append(sr)\n",
    "            res += [sr]\n",
    "print(len(res), max(res))"
   ]
  },
  {
   "cell_type": "code",
   "execution_count": null,
   "metadata": {},
   "outputs": [
    {
     "name": "stdout",
     "output_type": "stream",
     "text": [
      "38 884877115\n"
     ]
    }
   ],
   "source": [
    "f = open('02.txt')\n",
    "a = [int(x) for x in f]\n",
    "b = [x for x in a if x % 2 != 0 ]\n",
    "res = []\n",
    "for i in range(len(b)):\n",
    "    for j in range(i+1, len(b)):\n",
    "        sr = (b[i] + b[j]) // 2\n",
    "        if sr in a:\n",
    "            #res.append(sr)\n",
    "            res += [sr]\n",
    "print(len(res), max(res))"
   ]
  },
  {
   "cell_type": "code",
   "execution_count": 38,
   "metadata": {},
   "outputs": [
    {
     "name": "stdout",
     "output_type": "stream",
     "text": [
      "38 884877115\n"
     ]
    }
   ],
   "source": [
    "f = open('02.txt')\n",
    "a = [int(x) for x in f]\n",
    "res = []\n",
    "b = set(a)\n",
    "for i in range(len(a)):\n",
    "    if a[i] % 2 != 0:\n",
    "        for j in range(i+1, len(a)):\n",
    "            if a[j] % 2 != 0:\n",
    "                sr = (a[i] + a[j]) // 2\n",
    "                if sr in b:\n",
    "                    #res.append(sr)\n",
    "                    res += [sr]\n",
    "print(len(res), max(res))"
   ]
  },
  {
   "cell_type": "code",
   "execution_count": 37,
   "metadata": {},
   "outputs": [
    {
     "name": "stdout",
     "output_type": "stream",
     "text": [
      "38 884877115\n"
     ]
    }
   ],
   "source": [
    "f = open('02.txt')\n",
    "a = [int(x) for x in f]\n",
    "b = set(a)\n",
    "c = []\n",
    "res = []\n",
    "for x in a:\n",
    "    if x % 2 != 0:\n",
    "        c += [x]\n",
    "for i in range(len(c)):\n",
    "    for j in range(i+1, len(c)):\n",
    "        sr = (c[i] + c[j]) // 2\n",
    "        if sr in b:\n",
    "            #res.append(sr)\n",
    "            res += [sr]\n",
    "print(len(res), max(res))"
   ]
  },
  {
   "cell_type": "code",
   "execution_count": 39,
   "metadata": {},
   "outputs": [
    {
     "name": "stdout",
     "output_type": "stream",
     "text": [
      "38 884877115\n"
     ]
    }
   ],
   "source": [
    "f = open('02.txt')\n",
    "a = [int(x) for x in f]\n",
    "b = set(a)\n",
    "c = set()\n",
    "for i in range(len(a)):\n",
    "    if a[i] % 2 != 0:\n",
    "        for j in range(i+1, len(a)):\n",
    "            if a[j] % 2 != 0:\n",
    "                sr = (a[i] + a[j]) // 2\n",
    "                c.add(sr)\n",
    "res = b & c\n",
    "print(len(res), max(res))"
   ]
  },
  {
   "cell_type": "code",
   "execution_count": 28,
   "metadata": {},
   "outputs": [
    {
     "name": "stdout",
     "output_type": "stream",
     "text": [
      "38 884877115\n"
     ]
    }
   ],
   "source": [
    "f = open('02.txt')\n",
    "a = [int(x) for x in f]\n",
    "b = [int(x) for x in a if x % 2 != 0 ]\n",
    "c = []\n",
    "for i in range(len(b)):\n",
    "    for j in range(i+1, len(b)):\n",
    "        sr = (b[i] + b[j]) // 2\n",
    "        c += [sr]\n",
    "res = set(a) & set(c)\n",
    "print(len(res), max(res))"
   ]
  }
 ],
 "metadata": {
  "kernelspec": {
   "display_name": "Python 3",
   "language": "python",
   "name": "python3"
  },
  "language_info": {
   "codemirror_mode": {
    "name": "ipython",
    "version": 3
   },
   "file_extension": ".py",
   "mimetype": "text/x-python",
   "name": "python",
   "nbconvert_exporter": "python",
   "pygments_lexer": "ipython3",
   "version": "3.12.3"
  }
 },
 "nbformat": 4,
 "nbformat_minor": 2
}
