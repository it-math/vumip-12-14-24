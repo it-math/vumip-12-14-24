{
 "cells": [
  {
   "cell_type": "markdown",
   "metadata": {},
   "source": [
    "# Случайные числа в Python"
   ]
  },
  {
   "cell_type": "markdown",
   "metadata": {},
   "source": [
    "Python порождает случайные числа на основе формулы, так что они не на самом деле случайные, а, как говорят, псевдослучайные. Этот способ удобен для большинства приложений."
   ]
  },
  {
   "cell_type": "markdown",
   "metadata": {},
   "source": [
    "**Модуль random** предоставляет функции для генерации случайных чисел, букв, случайного выбора элементов последовательности."
   ]
  },
  {
   "cell_type": "code",
   "execution_count": 1,
   "metadata": {},
   "outputs": [],
   "source": [
    "import random"
   ]
  },
  {
   "cell_type": "markdown",
   "metadata": {},
   "source": [
    "**random()** возвращает следующее случайное число с плавающей запятой в промежутке [0.0, 1.0]."
   ]
  },
  {
   "cell_type": "code",
   "execution_count": 2,
   "metadata": {},
   "outputs": [
    {
     "name": "stdout",
     "output_type": "stream",
     "text": [
      "Вывод случайного числа при помощи использования random.random()\n",
      "0.5997733445744043\n"
     ]
    }
   ],
   "source": [
    "print(\"Вывод случайного числа при помощи использования random.random()\")\n",
    "print(random.random())"
   ]
  },
  {
   "cell_type": "markdown",
   "metadata": {},
   "source": [
    "Для получения случайного целого числа в Python используется функция **randint()**."
   ]
  },
  {
   "cell_type": "markdown",
   "metadata": {},
   "source": [
    "**random.randint(<Начало>, <Конец>)** — возвращает псевдослучайное целое число в диапазоне от **<Начало>** до **<Конец>**:"
   ]
  },
  {
   "cell_type": "code",
   "execution_count": 3,
   "metadata": {},
   "outputs": [
    {
     "name": "stdout",
     "output_type": "stream",
     "text": [
      "4\n"
     ]
    }
   ],
   "source": [
    "x = random.randint(1, 10)\n",
    "print(x)"
   ]
  },
  {
   "cell_type": "markdown",
   "metadata": {},
   "source": [
    "Для получения случайного вещественного числа в Python используется функция **uniform()**."
   ]
  },
  {
   "cell_type": "markdown",
   "metadata": {},
   "source": [
    "**random.uniform(<Начало>, <Конец>)** — возвращает псевдослучайное вещественное число в диапазоне от **<Начало>** до **<Конец>**:"
   ]
  },
  {
   "cell_type": "code",
   "execution_count": 4,
   "metadata": {},
   "outputs": [
    {
     "name": "stdout",
     "output_type": "stream",
     "text": [
      "1.3366271102255114\n"
     ]
    }
   ],
   "source": [
    "x = random.uniform(1, 10)\n",
    "print(x)"
   ]
  },
  {
   "cell_type": "markdown",
   "metadata": {},
   "source": [
    "Метод **seed()** используется для инициализации генератора псевдослучайных чисел в Python"
   ]
  },
  {
   "cell_type": "markdown",
   "metadata": {},
   "source": [
    "Модуль **random** использует значение из **seed**, или отправной точки как основу для генерации случайного числа. Если значения **seed** нет в наличии, тогда система будет отталкиваться от текущего времени."
   ]
  },
  {
   "cell_type": "code",
   "execution_count": 5,
   "metadata": {},
   "outputs": [
    {
     "name": "stdout",
     "output_type": "stream",
     "text": [
      "0.793340083761663\n",
      "0.8219540423197268\n",
      "0.4850346279309453\n"
     ]
    }
   ],
   "source": [
    "random.seed(6)\n",
    "print(random.random())\n",
    "print(random.random())\n",
    "print(random.random())"
   ]
  },
  {
   "cell_type": "code",
   "execution_count": 6,
   "metadata": {},
   "outputs": [
    {
     "name": "stdout",
     "output_type": "stream",
     "text": [
      "0.793340083761663\n",
      "0.8219540423197268\n",
      "0.4850346279309453\n"
     ]
    }
   ],
   "source": [
    "random.seed(6)\n",
    "print(random.random())\n",
    "print(random.random())\n",
    "print(random.random())"
   ]
  },
  {
   "cell_type": "code",
   "execution_count": 7,
   "metadata": {},
   "outputs": [
    {
     "name": "stdout",
     "output_type": "stream",
     "text": [
      "0.38789651909361056\n",
      "0.5949888943435623\n",
      "0.6898443235986024\n"
     ]
    }
   ],
   "source": [
    "random.seed()\n",
    "print(random.random())\n",
    "print(random.random())\n",
    "print(random.random())"
   ]
  },
  {
   "cell_type": "code",
   "execution_count": 8,
   "metadata": {},
   "outputs": [
    {
     "name": "stdout",
     "output_type": "stream",
     "text": [
      "0.7302328104263199\n",
      "0.018151303039182443\n",
      "0.19708669585934668\n"
     ]
    }
   ],
   "source": [
    "random.seed()\n",
    "print(random.random())\n",
    "print(random.random())\n",
    "print(random.random())"
   ]
  }
 ],
 "metadata": {
  "kernelspec": {
   "display_name": "Python 3",
   "language": "python",
   "name": "python3"
  },
  "language_info": {
   "codemirror_mode": {
    "name": "ipython",
    "version": 3
   },
   "file_extension": ".py",
   "mimetype": "text/x-python",
   "name": "python",
   "nbconvert_exporter": "python",
   "pygments_lexer": "ipython3",
   "version": "3.7.4"
  }
 },
 "nbformat": 4,
 "nbformat_minor": 2
}
