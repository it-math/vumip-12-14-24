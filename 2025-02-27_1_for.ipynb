{
 "cells": [
  {
   "cell_type": "markdown",
   "metadata": {},
   "source": [
    "# **Циклы в Python**"
   ]
  },
  {
   "cell_type": "markdown",
   "metadata": {},
   "source": [
    "## __Цикл for__"
   ]
  },
  {
   "cell_type": "markdown",
   "metadata": {},
   "source": [
    "### Как правило, циклы for используются либо для повторения какой-либо последовательности действий заданное число раз, либо для изменения значения переменной в цикле от некоторого начального значения до некоторого конечного."
   ]
  },
  {
   "cell_type": "markdown",
   "metadata": {},
   "source": [
    "### __Функция range__"
   ]
  },
  {
   "cell_type": "markdown",
   "metadata": {},
   "source": [
    "### Позволяет генерировать ряд чисел в рамках заданного диапазона. \n",
    "### Есть три способа вызова функции range(): "
   ]
  },
  {
   "cell_type": "markdown",
   "metadata": {},
   "source": [
    "#### 1. **range(end)**,\n",
    "#### 2. **range(start, end)**,\n",
    "#### 3. **range(start, end, step).**  "
   ]
  },
  {
   "cell_type": "markdown",
   "metadata": {},
   "source": [
    "### Вызывая **range()** с одним аргументом, вы получите ряд чисел, начинающихся с нуля и включающих в себя каждое целое число до **end, не включая end**."
   ]
  },
  {
   "cell_type": "markdown",
   "metadata": {},
   "source": [
    "### Вызывая **range()** с двумя аргументами, вы получите ряд чисел, начинающихся со **start** и включающих в себя каждое целое число до **end, не включая end**. Шаг в данном случае будет равен 1."
   ]
  },
  {
   "cell_type": "markdown",
   "metadata": {},
   "source": [
    "### Вызывая **range()** с тремя аргументами, вы получите ряд чисел, начинающихся со **start** и включающих в себя целые числа до **end, не включая end** с шагом **step**. Шаг step может быть положительным и отрицательным, но не может быть равен нулю. При задании шага равного нулю получим исключение **ValueError**."
   ]
  },
  {
   "cell_type": "markdown",
   "metadata": {},
   "source": [
    "### Для повторения цикла некоторое заданное число раз **n** можно использовать цикл **for вместе с функцией range**:"
   ]
  },
  {
   "attachments": {
    "Screenshot_3.jpg": {
     "image/jpeg": "[encoded data removed]"
    }
   },
   "cell_type": "markdown",
   "metadata": {},
   "source": [
    "![Screenshot_3.jpg](attachment:Screenshot_3.jpg)"
   ]
  },
  {
   "cell_type": "code",
   "execution_count": 2,
   "metadata": {
    "scrolled": true
   },
   "outputs": [
    {
     "name": "stdout",
     "output_type": "stream",
     "text": [
      "n = 3\n",
      "0\n",
      "1\n",
      "2\n"
     ]
    }
   ],
   "source": [
    "n = int(input('n = '))\n",
    "for i in range(n):\n",
    "    print(i)"
   ]
  },
  {
   "cell_type": "markdown",
   "metadata": {},
   "source": [
    "### В качестве **n** может использоваться числовая константа, переменная или произвольное арифметическое выражение (например, 2 ** 10). \n",
    "### Если значение n равно нулю или отрицательное, то тело цикла не выполнится ни разу."
   ]
  },
  {
   "cell_type": "code",
   "execution_count": 3,
   "metadata": {},
   "outputs": [],
   "source": [
    "for i in range(0):\n",
    "    print(i)"
   ]
  },
  {
   "cell_type": "code",
   "execution_count": 4,
   "metadata": {},
   "outputs": [
    {
     "name": "stdout",
     "output_type": "stream",
     "text": [
      "0\n"
     ]
    }
   ],
   "source": [
    "for i in range(1):\n",
    "    print(i)"
   ]
  },
  {
   "cell_type": "code",
   "execution_count": 5,
   "metadata": {
    "scrolled": true
   },
   "outputs": [
    {
     "name": "stdout",
     "output_type": "stream",
     "text": [
      "0\n",
      "1\n",
      "2\n",
      "3\n"
     ]
    }
   ],
   "source": [
    "for i in range(2*2):\n",
    "    print(i)"
   ]
  },
  {
   "cell_type": "markdown",
   "metadata": {},
   "source": [
    "### Если задать цикл таким образом:"
   ]
  },
  {
   "cell_type": "code",
   "execution_count": 6,
   "metadata": {},
   "outputs": [
    {
     "name": "stdout",
     "output_type": "stream",
     "text": [
      "3\n",
      "4\n",
      "5\n"
     ]
    }
   ],
   "source": [
    "for i in range(3, 6):\n",
    "    print(i)"
   ]
  },
  {
   "cell_type": "markdown",
   "metadata": {},
   "source": [
    "### то индексная переменная **i** будет принимать значения от **3 до 5 (6 - 1)**, то есть первый параметр функции **range**, вызываемой с двумя параметрами, задает начальное значение индексной переменной, а второй параметр — значение, которая индексная переменная принимать не будет. Если же a≥b, то цикл не будет выполнен ни разу. "
   ]
  },
  {
   "cell_type": "code",
   "execution_count": 7,
   "metadata": {},
   "outputs": [],
   "source": [
    "for i in range(6, 3):\n",
    "    print(i)"
   ]
  },
  {
   "cell_type": "markdown",
   "metadata": {},
   "source": [
    "### Например, для того, чтобы просуммировать значения чисел от 1 до n можно воспользоваться следующей программой:"
   ]
  },
  {
   "cell_type": "code",
   "execution_count": 8,
   "metadata": {
    "scrolled": true
   },
   "outputs": [
    {
     "name": "stdout",
     "output_type": "stream",
     "text": [
      "n = 4\n",
      "s = 10\n"
     ]
    }
   ],
   "source": [
    "s = 0\n",
    "n = int(input('n = '))\n",
    "for i in range(1, n + 1):\n",
    "    s += i\n",
    "print('s =', s)"
   ]
  },
  {
   "cell_type": "markdown",
   "metadata": {},
   "source": [
    "### Можно просуммировать все нечетные числа от 1 до 100, используя цикл for с тремя параметрами:"
   ]
  },
  {
   "cell_type": "code",
   "execution_count": 1,
   "metadata": {},
   "outputs": [
    {
     "name": "stdout",
     "output_type": "stream",
     "text": [
      "s = 9\n"
     ]
    }
   ],
   "source": [
    "s = 0\n",
    "for i in range(1, 7, 2):\n",
    "    s += i\n",
    "print('s =', s)"
   ]
  },
  {
   "cell_type": "markdown",
   "metadata": {},
   "source": [
    "### Наконец, чтобы организовать цикл, в котором индексная переменная будет уменьшаться, также необходимо использовать функцию **range** с тремя параметрами. Третий параметр (шаг) должен быть отрицательным. "
   ]
  },
  {
   "cell_type": "code",
   "execution_count": 10,
   "metadata": {
    "scrolled": true
   },
   "outputs": [
    {
     "name": "stdout",
     "output_type": "stream",
     "text": [
      "8\n",
      "7\n",
      "6\n",
      "5\n",
      "4\n"
     ]
    }
   ],
   "source": [
    "for i in range(8, 3, -1):\n",
    "    print(i)"
   ]
  },
  {
   "cell_type": "markdown",
   "metadata": {},
   "source": [
    "### Первый параметр при этом должен быть больше второго. В противном случае цикл не выполнится ни разу:"
   ]
  },
  {
   "cell_type": "code",
   "execution_count": 11,
   "metadata": {},
   "outputs": [],
   "source": [
    "for i in range(-1,10,-1):\n",
    "    print(i)"
   ]
  },
  {
   "cell_type": "markdown",
   "metadata": {},
   "source": [
    "### Цикл for, также называемый циклом с параметром, в языке Python богат возможностями. В цикле **for** указывается переменная и множество значений, по которому будет пробегать переменная. Множество значений может быть задано списком, кортежем, строкой или диапазоном."
   ]
  },
  {
   "cell_type": "code",
   "execution_count": 12,
   "metadata": {
    "scrolled": true
   },
   "outputs": [
    {
     "name": "stdout",
     "output_type": "stream",
     "text": [
      "1- ый цвет радуги - красный\n",
      "2- ый цвет радуги - оранжевый\n",
      "3- ый цвет радуги - желтый\n",
      "4- ый цвет радуги - зеленый\n",
      "5- ый цвет радуги - cyan\n",
      "6- ый цвет радуги - blue\n",
      "7- ый цвет радуги - violet\n"
     ]
    }
   ],
   "source": [
    "i = 1\n",
    "for color in 'красный','оранжевый','желтый','зеленый','cyan','blue', 'violet':\n",
    "    print(i,'- ый цвет радуги - ', color, sep = '')\n",
    "    i += 1"
   ]
  },
  {
   "cell_type": "markdown",
   "metadata": {},
   "source": [
    "### В этом примере переменная **color** последовательно принимает значения **'red', 'orange'** и т.д. В теле цикла выводится сообщение, которое содержит название цвета, то есть значение переменной **color**, а также номер итерации цикла – число, которое сначала равно **1**, а потом увеличивается на один (инструкцией i += 1 с каждым проходом цикла)."
   ]
  },
  {
   "cell_type": "markdown",
   "metadata": {},
   "source": [
    "### В списке значений могут быть выражения различных типов, например:"
   ]
  },
  {
   "cell_type": "code",
   "execution_count": 13,
   "metadata": {
    "scrolled": true
   },
   "outputs": [
    {
     "name": "stdout",
     "output_type": "stream",
     "text": [
      "1\n",
      "2\n",
      "3\n",
      "one\n",
      "two\n",
      "three\n"
     ]
    }
   ],
   "source": [
    "for i in 1, 2, 3, 'one', 'two', 'three':\n",
    "    print(i)"
   ]
  },
  {
   "cell_type": "markdown",
   "metadata": {},
   "source": [
    "### При первых трех итерациях цикла переменная **i** будет принимать значение типа **int**, при последующих трех — типа **str**."
   ]
  }
 ],
 "metadata": {
  "kernelspec": {
   "display_name": "Python 3",
   "language": "python",
   "name": "python3"
  },
  "language_info": {
   "codemirror_mode": {
    "name": "ipython",
    "version": 3
   },
   "file_extension": ".py",
   "mimetype": "text/x-python",
   "name": "python",
   "nbconvert_exporter": "python",
   "pygments_lexer": "ipython3",
   "version": "3.12.3"
  }
 },
 "nbformat": 4,
 "nbformat_minor": 2
}
