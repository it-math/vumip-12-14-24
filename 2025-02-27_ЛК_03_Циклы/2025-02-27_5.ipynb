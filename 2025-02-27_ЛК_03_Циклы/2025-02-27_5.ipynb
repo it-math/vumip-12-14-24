{
 "cells": [
  {
   "cell_type": "markdown",
   "metadata": {},
   "source": [
    "## **Вычисление значения функции на отрезке**"
   ]
  },
  {
   "cell_type": "markdown",
   "metadata": {},
   "source": [
    "#### **Пример.** Вычислить значение функции x^2  на интервале [1,3] c шагом 0,3"
   ]
  },
  {
   "cell_type": "code",
   "execution_count": 1,
   "metadata": {},
   "outputs": [
    {
     "name": "stdout",
     "output_type": "stream",
     "text": [
      "1 1\n",
      "1.3 1.6900000000000002\n",
      "1.6 2.5600000000000005\n",
      "1.9000000000000001 3.6100000000000003\n",
      "2.2 4.840000000000001\n",
      "2.5 6.25\n",
      "2.8 7.839999999999999\n"
     ]
    }
   ],
   "source": [
    "a, b = 1, 3\n",
    "x = a\n",
    "dx = 0.3\n",
    "while x <= b:\n",
    "    y = x ** 2\n",
    "    print(x, y)\n",
    "    x += dx\n"
   ]
  },
  {
   "cell_type": "code",
   "execution_count": 2,
   "metadata": {},
   "outputs": [
    {
     "name": "stdout",
     "output_type": "stream",
     "text": [
      "1 1\n",
      "1.3 1.6900000000000002\n",
      "1.6 2.5600000000000005\n",
      "1.9000000000000001 3.6100000000000003\n",
      "2.2 4.840000000000001\n",
      "2.5 6.25\n",
      "2.8 7.839999999999999\n"
     ]
    }
   ],
   "source": [
    "a, b = 1, 3\n",
    "dx = 0.3\n",
    "x = a\n",
    "k = int((b - a)/dx + 1)\n",
    "for i in range(k):\n",
    "    y = x ** 2\n",
    "    print(x, y)\n",
    "    x += dx\n"
   ]
  }
 ],
 "metadata": {
  "kernelspec": {
   "display_name": "Python 3",
   "language": "python",
   "name": "python3"
  },
  "language_info": {
   "codemirror_mode": {
    "name": "ipython",
    "version": 3
   },
   "file_extension": ".py",
   "mimetype": "text/x-python",
   "name": "python",
   "nbconvert_exporter": "python",
   "pygments_lexer": "ipython3",
   "version": "3.12.3"
  }
 },
 "nbformat": 4,
 "nbformat_minor": 2
}
