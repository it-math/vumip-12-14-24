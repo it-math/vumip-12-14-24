{
 "cells": [
  {
   "cell_type": "markdown",
   "metadata": {},
   "source": [
    "## Ветвления"
   ]
  },
  {
   "cell_type": "markdown",
   "metadata": {},
   "source": [
    "### **Короткая форма**"
   ]
  },
  {
   "cell_type": "markdown",
   "metadata": {},
   "source": [
    "```python\n",
    "if условие:\n",
    "    действие 1\n",
    "    действие 2\n",
    "    ...\n",
    "```"
   ]
  },
  {
   "cell_type": "markdown",
   "metadata": {},
   "source": [
    "### **Задача 1.** Задано число x. Если оно больше 10, то вывести \"да\"."
   ]
  },
  {
   "cell_type": "code",
   "execution_count": 2,
   "metadata": {},
   "outputs": [],
   "source": [
    "x = int(input())\n",
    "if x > 10:\n",
    "    print('да')"
   ]
  },
  {
   "cell_type": "markdown",
   "metadata": {},
   "source": [
    "```python\n",
    "if условие:\n",
    "    действие 1\n",
    "    действие 2\n",
    "    ...\n",
    "else:\n",
    "    действие 3\n",
    "    ....\n",
    "```"
   ]
  },
  {
   "cell_type": "markdown",
   "metadata": {},
   "source": [
    "### **Задача 2.** Составьте программу, проверяющую, что введенное число является четным или нечетным. "
   ]
  },
  {
   "cell_type": "code",
   "execution_count": 3,
   "metadata": {},
   "outputs": [
    {
     "name": "stdout",
     "output_type": "stream",
     "text": [
      "5 - нечетное число\n"
     ]
    }
   ],
   "source": [
    "x = int(input())\n",
    "if x % 2 == 0:\n",
    "    print(f'{x} - четное число')\n",
    "else:\n",
    "    print(f'{x} - нечетное число')"
   ]
  },
  {
   "cell_type": "markdown",
   "metadata": {},
   "source": [
    "### **Полная форма**"
   ]
  },
  {
   "cell_type": "markdown",
   "metadata": {},
   "source": [
    "```python\n",
    "if условие1:\n",
    "    действие 1\n",
    "    ....\n",
    "elif условие2:\n",
    "    действие 2\n",
    "    ....\n",
    "elif условие3:\n",
    "    действие3\n",
    "    ....\n",
    "....\n",
    "else:\n",
    "    действиеn\n",
    "```"
   ]
  },
  {
   "cell_type": "markdown",
   "metadata": {},
   "source": [
    "### **Задача 3.** Вычислить значение функции\n"
   ]
  },
  {
   "cell_type": "markdown",
   "metadata": {},
   "source": [
    "![alt text](pics/image-2.png)"
   ]
  },
  {
   "cell_type": "markdown",
   "metadata": {},
   "source": [
    "**Вариант 1. Плохой. Почему?**"
   ]
  },
  {
   "cell_type": "code",
   "execution_count": 23,
   "metadata": {},
   "outputs": [
    {
     "name": "stdout",
     "output_type": "stream",
     "text": [
      "56\n",
      "76\n"
     ]
    }
   ],
   "source": [
    "import random\n",
    "\n",
    "x = random.randint(-100, 100)\n",
    "print(x)\n",
    "if x < -10:\n",
    "    print(x)\n",
    "if -10 <= x < 10:\n",
    "    print(x + 10)\n",
    "if x >= 10:\n",
    "    print(x + 20)\n"
   ]
  },
  {
   "cell_type": "markdown",
   "metadata": {},
   "source": [
    "**Вариант 2. Лучше. Почему?**"
   ]
  },
  {
   "cell_type": "code",
   "execution_count": 24,
   "metadata": {},
   "outputs": [
    {
     "name": "stdout",
     "output_type": "stream",
     "text": [
      "-95\n",
      "-95\n"
     ]
    }
   ],
   "source": [
    "import random\n",
    "\n",
    "x = random.randint(-100, 100)\n",
    "print(x)\n",
    "if x < -10:\n",
    "    print(x)\n",
    "elif -10 <= x < 10:\n",
    "    print(x + 10)\n",
    "elif x >= 10:\n",
    "    print(x + 20)"
   ]
  },
  {
   "cell_type": "markdown",
   "metadata": {},
   "source": [
    "**Вариант 3. Еще лучше. Почему?**"
   ]
  },
  {
   "cell_type": "code",
   "execution_count": 25,
   "metadata": {},
   "outputs": [
    {
     "name": "stdout",
     "output_type": "stream",
     "text": [
      "-77\n",
      "-77\n"
     ]
    }
   ],
   "source": [
    "import random\n",
    "\n",
    "x = random.randint(-100, 100)\n",
    "print(x)\n",
    "if x < -10:\n",
    "    print(x)\n",
    "elif x < 10:\n",
    "    print(x + 10)\n",
    "else:\n",
    "    print(x + 20)"
   ]
  },
  {
   "cell_type": "markdown",
   "metadata": {},
   "source": [
    "### **Задача 4.** Вычислить значение функции"
   ]
  },
  {
   "cell_type": "markdown",
   "metadata": {},
   "source": [
    "![alt text](pics/image-3.png)"
   ]
  },
  {
   "cell_type": "markdown",
   "metadata": {},
   "source": [
    "**Вариант 1.** Плохой. В чем ошибка?"
   ]
  },
  {
   "cell_type": "code",
   "execution_count": 26,
   "metadata": {},
   "outputs": [
    {
     "name": "stdout",
     "output_type": "stream",
     "text": [
      "1\n",
      "1\n"
     ]
    }
   ],
   "source": [
    "import random\n",
    "\n",
    "x = random.randint(-10, 20)\n",
    "print(x)\n",
    "if 0 <= x <= 5:\n",
    "    y = x\n",
    "elif 5 < x <= 10:\n",
    "    y = 10 - x\n",
    "elif 10 < x <= 15:\n",
    "    y = x - 10\n",
    "print(y)"
   ]
  },
  {
   "cell_type": "markdown",
   "metadata": {},
   "source": [
    "**Вариант 2.** "
   ]
  },
  {
   "cell_type": "code",
   "execution_count": 43,
   "metadata": {},
   "outputs": [
    {
     "name": "stdout",
     "output_type": "stream",
     "text": [
      "6\n",
      "6 4\n"
     ]
    }
   ],
   "source": [
    "import random\n",
    "\n",
    "x = random.randint(-10, 20)\n",
    "print(x)\n",
    "if 0 <= x <= 5:\n",
    "    y = x\n",
    "elif 5 < x <= 10:\n",
    "    y = 10 - x\n",
    "elif 10 < x <= 15:\n",
    "    y = x - 10\n",
    "else:\n",
    "    y = None\n",
    "if y != None:\n",
    "    print(x, y)"
   ]
  },
  {
   "cell_type": "markdown",
   "metadata": {},
   "source": [
    "**Вариант 3.** "
   ]
  },
  {
   "cell_type": "code",
   "execution_count": 55,
   "metadata": {},
   "outputs": [
    {
     "name": "stdout",
     "output_type": "stream",
     "text": [
      "18\n"
     ]
    }
   ],
   "source": [
    "import random\n",
    "\n",
    "x = random.randint(-10, 20)\n",
    "print(x)\n",
    "if x < 0 or x > 15:\n",
    "    y = None\n",
    "elif x <= 5:\n",
    "    y = x\n",
    "elif x <= 10:\n",
    "    y = 10 - x\n",
    "elif x <= 15:\n",
    "    y = x - 10\n",
    "if y != None:\n",
    "    print(x, y)"
   ]
  },
  {
   "cell_type": "markdown",
   "metadata": {},
   "source": [
    "### **Задача 5**. Вычислить значение функции в заданной точке. Функция задана графиком."
   ]
  },
  {
   "cell_type": "markdown",
   "metadata": {},
   "source": [
    "![alt text](pics/image-5.png)"
   ]
  },
  {
   "cell_type": "markdown",
   "metadata": {},
   "source": [
    "![alt text](pics/image-4.png)"
   ]
  }
 ],
 "metadata": {
  "kernelspec": {
   "display_name": "Python 3",
   "language": "python",
   "name": "python3"
  },
  "language_info": {
   "codemirror_mode": {
    "name": "ipython",
    "version": 3
   },
   "file_extension": ".py",
   "mimetype": "text/x-python",
   "name": "python",
   "nbconvert_exporter": "python",
   "pygments_lexer": "ipython3",
   "version": "3.12.3"
  }
 },
 "nbformat": 4,
 "nbformat_minor": 2
}
